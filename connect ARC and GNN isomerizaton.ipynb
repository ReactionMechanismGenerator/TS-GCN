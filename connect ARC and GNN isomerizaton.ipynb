{
 "cells": [
  {
   "cell_type": "markdown",
   "metadata": {},
   "source": [
    "### ARC Species for the ML TS module\n",
    "\n",
    "- clone ARC from https://github.com/ReactionMechanismGenerator/ARC and add it to your python path so we can import modules from ARC\n",
    "- also be sure that RMG is added to your python path for the same reason"
   ]
  },
  {
   "cell_type": "code",
   "execution_count": 1,
   "metadata": {},
   "outputs": [],
   "source": [
    "import numpy as np\n",
    "import os\n",
    "import scipy\n",
    "import sklearn\n",
    "import sys"
   ]
  },
  {
   "cell_type": "code",
   "execution_count": 2,
   "metadata": {},
   "outputs": [],
   "source": [
    "from arc.species.species import ARCSpecies, enumerate_bonds\n",
    "from arc.plotter import draw_structure, plot_3d_mol_as_scatter\n",
    "import arc\n",
    "%matplotlib inline\n",
    "\n",
    "# We normally don't define species using xyz (ARC will determine it),\n",
    "# but here we'd like to make sure that atom ordering is the same.\n",
    "# ARC will preserve the xyz atom order as well as the RMG Molecule object created from it.\n",
    "# I also defined SMILES, but it's not necessary (used for isomorphism check with the preceived connectivity)\n",
    "# The created RMG Molecule object (stored in spc.mol) is created with the same atom order as in the given xyz.\n",
    "\n",
    "xyz1 = \"\"\"\n",
    "C       2.48681185    0.74219788    0.29129615\n",
    "C       1.29524181    0.18715038   -0.40777838\n",
    "C       1.46444739   -0.47980720   -1.73736780\n",
    "C       0.16705606   -0.55907814   -2.54092821\n",
    "C      -0.36446443    0.80716478   -2.95523113\n",
    "O      -1.52380810    0.62255823   -3.75896487\n",
    "H       2.16965544    1.37829949    1.12297519\n",
    "H       3.09112758    1.35063778   -0.38769069\n",
    "H       3.10507890   -0.06601540    0.69197818\n",
    "H      -1.84750558    1.50817592   -3.99677266\n",
    "H       0.40069838   -0.01072042    0.17544185\n",
    "H       2.22318045    0.04927747   -2.32572179\n",
    "H       1.83755199   -1.49649681   -1.56779399\n",
    "H      -0.60479748   -1.09591403   -1.97441015\n",
    "H       0.34025028   -1.16121577   -3.44207305\n",
    "H       0.37976603    1.35391729   -3.54296385\n",
    "H      -0.64345729    1.40814259   -2.08442448\"\"\"\n",
    "\n",
    "xyz2 = \"\"\"C      -2.46980163   -0.12577955    0.55549609\n",
    "C      -1.31178104    0.17111718   -0.38385509\n",
    "C      -1.31218791    1.63372953   -0.82856447\n",
    "C      -0.14249660    1.92946952   -1.77612989\n",
    "C      -0.14107412    3.41360663   -2.22873160\n",
    "O       0.89700906    3.56663441   -3.03638466\n",
    "H      -3.43036007    0.06844820    0.06770664\n",
    "H      -2.41124229    0.49137146    1.45773236\n",
    "H      -2.45027007   -1.17661693    0.86089972\n",
    "H      -0.36855204   -0.06395850    0.12282599\n",
    "H      -1.38205507   -0.48455267   -1.25954086\n",
    "H      -2.25951647    1.86383944   -1.33106784\n",
    "H      -1.24569851    2.28455893    0.05171502\n",
    "H      -0.21648654    1.26397688   -2.64824672\n",
    "H       0.79894922    1.68536973   -1.26325779\n",
    "H      -0.16879119    4.00888836   -1.30213259\n",
    "H      -1.14694094    3.60296809   -2.63627032\"\"\"\n",
    "\n",
    "spc1 = ARCSpecies(label='4-pentynol', smiles='C[CH]CCCO', xyz=xyz1)\n",
    "spc2 = ARCSpecies(label='pentane_1ox', smiles='CCCCC[O]', xyz=xyz2)\n"
   ]
  },
  {
   "cell_type": "code",
   "execution_count": 3,
   "metadata": {},
   "outputs": [
    {
     "data": {
      "text/plain": [
       "{'C-C': 4, 'C-O': 1, 'C-H': 10, 'H-O': 1}"
      ]
     },
     "execution_count": 3,
     "metadata": {},
     "output_type": "execute_result"
    }
   ],
   "source": [
    "# we can list all bonds in 2 ways (though this isn't that helpful bc the dictionary isn't ordered)\n",
    "spc1.mol.enumerate_bonds()\n",
    "enumerate_bonds(spc1.mol)"
   ]
  },
  {
   "cell_type": "code",
   "execution_count": 4,
   "metadata": {},
   "outputs": [
    {
     "data": {
      "application/3dmoljs_load.v0": "<div id=\"3dmolviewer_15962326239268649\"  style=\"position: relative; width: 400px; height: 400px\">\n        <p id=\"3dmolwarning_15962326239268649\" style=\"background-color:#ffcccc;color:black\">You appear to be running in JupyterLab (or JavaScript failed to load for some other reason).  You need to install the 3dmol extension: <br>\n        <tt>jupyter labextension install jupyterlab_3dmol</tt></p>\n        </div>\n<script>\n\nvar loadScriptAsync = function(uri){\n  return new Promise((resolve, reject) => {\n    var tag = document.createElement('script');\n    tag.src = uri;\n    tag.async = true;\n    tag.onload = () => {\n      resolve();\n    };\n  var firstScriptTag = document.getElementsByTagName('script')[0];\n  firstScriptTag.parentNode.insertBefore(tag, firstScriptTag);\n});\n};\n\nif(typeof $3Dmolpromise === 'undefined') {\n$3Dmolpromise = null;\n  $3Dmolpromise = loadScriptAsync('https://3dmol.csb.pitt.edu/build/3Dmol.js');\n}\n\nvar viewer_15962326239268649 = null;\nvar warn = document.getElementById(\"3dmolwarning_15962326239268649\");\nif(warn) {\n    warn.parentNode.removeChild(warn);\n}\n$3Dmolpromise.then(function() {\nviewer_15962326239268649 = $3Dmol.createViewer($(\"#3dmolviewer_15962326239268649\"),{backgroundColor:\"white\"});\n\tviewer_15962326239268649.addModel(\"\\n     RDKit          3D\\n\\n 17 16  0  0  0  0  0  0  0  0999 V2000\\n    2.4868    0.7422    0.2913 C   0  0  0  0  0  0  0  0  0  0  0  0\\n    1.2952    0.1872   -0.4078 C   0  0  0  0  0  3  0  0  0  0  0  0\\n    1.4644   -0.4798   -1.7374 C   0  0  0  0  0  0  0  0  0  0  0  0\\n    0.1671   -0.5591   -2.5409 C   0  0  0  0  0  0  0  0  0  0  0  0\\n   -0.3645    0.8072   -2.9552 C   0  0  0  0  0  0  0  0  0  0  0  0\\n   -1.5238    0.6226   -3.7590 O   0  0  0  0  0  0  0  0  0  0  0  0\\n    2.1697    1.3783    1.1230 H   0  0  0  0  0  0  0  0  0  0  0  0\\n    3.0911    1.3506   -0.3877 H   0  0  0  0  0  0  0  0  0  0  0  0\\n    3.1051   -0.0660    0.6920 H   0  0  0  0  0  0  0  0  0  0  0  0\\n   -1.8475    1.5082   -3.9968 H   0  0  0  0  0  0  0  0  0  0  0  0\\n    0.4007   -0.0107    0.1754 H   0  0  0  0  0  0  0  0  0  0  0  0\\n    2.2232    0.0493   -2.3257 H   0  0  0  0  0  0  0  0  0  0  0  0\\n    1.8376   -1.4965   -1.5678 H   0  0  0  0  0  0  0  0  0  0  0  0\\n   -0.6048   -1.0959   -1.9744 H   0  0  0  0  0  0  0  0  0  0  0  0\\n    0.3403   -1.1612   -3.4421 H   0  0  0  0  0  0  0  0  0  0  0  0\\n    0.3798    1.3539   -3.5430 H   0  0  0  0  0  0  0  0  0  0  0  0\\n   -0.6435    1.4081   -2.0844 H   0  0  0  0  0  0  0  0  0  0  0  0\\n  1  2  1  0\\n  1  7  1  0\\n  1  8  1  0\\n  1  9  1  0\\n  2  3  1  0\\n  2 11  1  0\\n  3  4  1  0\\n  3 12  1  0\\n  3 13  1  0\\n  4  5  1  0\\n  4 14  1  0\\n  4 15  1  0\\n  5  6  1  0\\n  5 16  1  0\\n  5 17  1  0\\n  6 10  1  0\\nM  RAD  1   2   2\\nM  END\\n\",\"sdf\");\n\tviewer_15962326239268649.setStyle({\"stick\": {}});\n\tviewer_15962326239268649.zoomTo();\nviewer_15962326239268649.render();\n});\n</script>",
      "text/html": [
       "<div id=\"3dmolviewer_15962326239268649\"  style=\"position: relative; width: 400px; height: 400px\">\n",
       "        <p id=\"3dmolwarning_15962326239268649\" style=\"background-color:#ffcccc;color:black\">You appear to be running in JupyterLab (or JavaScript failed to load for some other reason).  You need to install the 3dmol extension: <br>\n",
       "        <tt>jupyter labextension install jupyterlab_3dmol</tt></p>\n",
       "        </div>\n",
       "<script>\n",
       "\n",
       "var loadScriptAsync = function(uri){\n",
       "  return new Promise((resolve, reject) => {\n",
       "    var tag = document.createElement('script');\n",
       "    tag.src = uri;\n",
       "    tag.async = true;\n",
       "    tag.onload = () => {\n",
       "      resolve();\n",
       "    };\n",
       "  var firstScriptTag = document.getElementsByTagName('script')[0];\n",
       "  firstScriptTag.parentNode.insertBefore(tag, firstScriptTag);\n",
       "});\n",
       "};\n",
       "\n",
       "if(typeof $3Dmolpromise === 'undefined') {\n",
       "$3Dmolpromise = null;\n",
       "  $3Dmolpromise = loadScriptAsync('https://3dmol.csb.pitt.edu/build/3Dmol.js');\n",
       "}\n",
       "\n",
       "var viewer_15962326239268649 = null;\n",
       "var warn = document.getElementById(\"3dmolwarning_15962326239268649\");\n",
       "if(warn) {\n",
       "    warn.parentNode.removeChild(warn);\n",
       "}\n",
       "$3Dmolpromise.then(function() {\n",
       "viewer_15962326239268649 = $3Dmol.createViewer($(\"#3dmolviewer_15962326239268649\"),{backgroundColor:\"white\"});\n",
       "\tviewer_15962326239268649.addModel(\"\\n     RDKit          3D\\n\\n 17 16  0  0  0  0  0  0  0  0999 V2000\\n    2.4868    0.7422    0.2913 C   0  0  0  0  0  0  0  0  0  0  0  0\\n    1.2952    0.1872   -0.4078 C   0  0  0  0  0  3  0  0  0  0  0  0\\n    1.4644   -0.4798   -1.7374 C   0  0  0  0  0  0  0  0  0  0  0  0\\n    0.1671   -0.5591   -2.5409 C   0  0  0  0  0  0  0  0  0  0  0  0\\n   -0.3645    0.8072   -2.9552 C   0  0  0  0  0  0  0  0  0  0  0  0\\n   -1.5238    0.6226   -3.7590 O   0  0  0  0  0  0  0  0  0  0  0  0\\n    2.1697    1.3783    1.1230 H   0  0  0  0  0  0  0  0  0  0  0  0\\n    3.0911    1.3506   -0.3877 H   0  0  0  0  0  0  0  0  0  0  0  0\\n    3.1051   -0.0660    0.6920 H   0  0  0  0  0  0  0  0  0  0  0  0\\n   -1.8475    1.5082   -3.9968 H   0  0  0  0  0  0  0  0  0  0  0  0\\n    0.4007   -0.0107    0.1754 H   0  0  0  0  0  0  0  0  0  0  0  0\\n    2.2232    0.0493   -2.3257 H   0  0  0  0  0  0  0  0  0  0  0  0\\n    1.8376   -1.4965   -1.5678 H   0  0  0  0  0  0  0  0  0  0  0  0\\n   -0.6048   -1.0959   -1.9744 H   0  0  0  0  0  0  0  0  0  0  0  0\\n    0.3403   -1.1612   -3.4421 H   0  0  0  0  0  0  0  0  0  0  0  0\\n    0.3798    1.3539   -3.5430 H   0  0  0  0  0  0  0  0  0  0  0  0\\n   -0.6435    1.4081   -2.0844 H   0  0  0  0  0  0  0  0  0  0  0  0\\n  1  2  1  0\\n  1  7  1  0\\n  1  8  1  0\\n  1  9  1  0\\n  2  3  1  0\\n  2 11  1  0\\n  3  4  1  0\\n  3 12  1  0\\n  3 13  1  0\\n  4  5  1  0\\n  4 14  1  0\\n  4 15  1  0\\n  5  6  1  0\\n  5 16  1  0\\n  5 17  1  0\\n  6 10  1  0\\nM  RAD  1   2   2\\nM  END\\n\",\"sdf\");\n",
       "\tviewer_15962326239268649.setStyle({\"stick\": {}});\n",
       "\tviewer_15962326239268649.zoomTo();\n",
       "viewer_15962326239268649.render();\n",
       "});\n",
       "</script>"
      ]
     },
     "metadata": {},
     "output_type": "display_data"
    },
    {
     "data": {
      "application/3dmoljs_load.v0": "<div id=\"3dmolviewer_1596232623942817\"  style=\"position: relative; width: 400px; height: 400px\">\n        <p id=\"3dmolwarning_1596232623942817\" style=\"background-color:#ffcccc;color:black\">You appear to be running in JupyterLab (or JavaScript failed to load for some other reason).  You need to install the 3dmol extension: <br>\n        <tt>jupyter labextension install jupyterlab_3dmol</tt></p>\n        </div>\n<script>\n\nvar loadScriptAsync = function(uri){\n  return new Promise((resolve, reject) => {\n    var tag = document.createElement('script');\n    tag.src = uri;\n    tag.async = true;\n    tag.onload = () => {\n      resolve();\n    };\n  var firstScriptTag = document.getElementsByTagName('script')[0];\n  firstScriptTag.parentNode.insertBefore(tag, firstScriptTag);\n});\n};\n\nif(typeof $3Dmolpromise === 'undefined') {\n$3Dmolpromise = null;\n  $3Dmolpromise = loadScriptAsync('https://3dmol.csb.pitt.edu/build/3Dmol.js');\n}\n\nvar viewer_1596232623942817 = null;\nvar warn = document.getElementById(\"3dmolwarning_1596232623942817\");\nif(warn) {\n    warn.parentNode.removeChild(warn);\n}\n$3Dmolpromise.then(function() {\nviewer_1596232623942817 = $3Dmol.createViewer($(\"#3dmolviewer_1596232623942817\"),{backgroundColor:\"white\"});\n\tviewer_1596232623942817.addModel(\"\\n     RDKit          3D\\n\\n 17 16  0  0  0  0  0  0  0  0999 V2000\\n   -2.4698   -0.1258    0.5555 C   0  0  0  0  0  0  0  0  0  0  0  0\\n   -1.3118    0.1711   -0.3839 C   0  0  0  0  0  0  0  0  0  0  0  0\\n   -1.3122    1.6337   -0.8286 C   0  0  0  0  0  0  0  0  0  0  0  0\\n   -0.1425    1.9295   -1.7761 C   0  0  0  0  0  0  0  0  0  0  0  0\\n   -0.1411    3.4136   -2.2287 C   0  0  0  0  0  0  0  0  0  0  0  0\\n    0.8970    3.5666   -3.0364 O   0  0  0  0  0  1  0  0  0  0  0  0\\n   -3.4304    0.0684    0.0677 H   0  0  0  0  0  0  0  0  0  0  0  0\\n   -2.4112    0.4914    1.4577 H   0  0  0  0  0  0  0  0  0  0  0  0\\n   -2.4503   -1.1766    0.8609 H   0  0  0  0  0  0  0  0  0  0  0  0\\n   -0.3686   -0.0640    0.1228 H   0  0  0  0  0  0  0  0  0  0  0  0\\n   -1.3821   -0.4846   -1.2595 H   0  0  0  0  0  0  0  0  0  0  0  0\\n   -2.2595    1.8638   -1.3311 H   0  0  0  0  0  0  0  0  0  0  0  0\\n   -1.2457    2.2846    0.0517 H   0  0  0  0  0  0  0  0  0  0  0  0\\n   -0.2165    1.2640   -2.6482 H   0  0  0  0  0  0  0  0  0  0  0  0\\n    0.7989    1.6854   -1.2633 H   0  0  0  0  0  0  0  0  0  0  0  0\\n   -0.1688    4.0089   -1.3021 H   0  0  0  0  0  0  0  0  0  0  0  0\\n   -1.1469    3.6030   -2.6363 H   0  0  0  0  0  0  0  0  0  0  0  0\\n  1  2  1  0\\n  1  7  1  0\\n  1  8  1  0\\n  1  9  1  0\\n  2  3  1  0\\n  2 10  1  0\\n  2 11  1  0\\n  3  4  1  0\\n  3 12  1  0\\n  3 13  1  0\\n  4  5  1  0\\n  4 14  1  0\\n  4 15  1  0\\n  5  6  1  0\\n  5 16  1  0\\n  5 17  1  0\\nM  RAD  1   6   2\\nM  END\\n\",\"sdf\");\n\tviewer_1596232623942817.setStyle({\"stick\": {}});\n\tviewer_1596232623942817.zoomTo();\nviewer_1596232623942817.render();\n});\n</script>",
      "text/html": [
       "<div id=\"3dmolviewer_1596232623942817\"  style=\"position: relative; width: 400px; height: 400px\">\n",
       "        <p id=\"3dmolwarning_1596232623942817\" style=\"background-color:#ffcccc;color:black\">You appear to be running in JupyterLab (or JavaScript failed to load for some other reason).  You need to install the 3dmol extension: <br>\n",
       "        <tt>jupyter labextension install jupyterlab_3dmol</tt></p>\n",
       "        </div>\n",
       "<script>\n",
       "\n",
       "var loadScriptAsync = function(uri){\n",
       "  return new Promise((resolve, reject) => {\n",
       "    var tag = document.createElement('script');\n",
       "    tag.src = uri;\n",
       "    tag.async = true;\n",
       "    tag.onload = () => {\n",
       "      resolve();\n",
       "    };\n",
       "  var firstScriptTag = document.getElementsByTagName('script')[0];\n",
       "  firstScriptTag.parentNode.insertBefore(tag, firstScriptTag);\n",
       "});\n",
       "};\n",
       "\n",
       "if(typeof $3Dmolpromise === 'undefined') {\n",
       "$3Dmolpromise = null;\n",
       "  $3Dmolpromise = loadScriptAsync('https://3dmol.csb.pitt.edu/build/3Dmol.js');\n",
       "}\n",
       "\n",
       "var viewer_1596232623942817 = null;\n",
       "var warn = document.getElementById(\"3dmolwarning_1596232623942817\");\n",
       "if(warn) {\n",
       "    warn.parentNode.removeChild(warn);\n",
       "}\n",
       "$3Dmolpromise.then(function() {\n",
       "viewer_1596232623942817 = $3Dmol.createViewer($(\"#3dmolviewer_1596232623942817\"),{backgroundColor:\"white\"});\n",
       "\tviewer_1596232623942817.addModel(\"\\n     RDKit          3D\\n\\n 17 16  0  0  0  0  0  0  0  0999 V2000\\n   -2.4698   -0.1258    0.5555 C   0  0  0  0  0  0  0  0  0  0  0  0\\n   -1.3118    0.1711   -0.3839 C   0  0  0  0  0  0  0  0  0  0  0  0\\n   -1.3122    1.6337   -0.8286 C   0  0  0  0  0  0  0  0  0  0  0  0\\n   -0.1425    1.9295   -1.7761 C   0  0  0  0  0  0  0  0  0  0  0  0\\n   -0.1411    3.4136   -2.2287 C   0  0  0  0  0  0  0  0  0  0  0  0\\n    0.8970    3.5666   -3.0364 O   0  0  0  0  0  1  0  0  0  0  0  0\\n   -3.4304    0.0684    0.0677 H   0  0  0  0  0  0  0  0  0  0  0  0\\n   -2.4112    0.4914    1.4577 H   0  0  0  0  0  0  0  0  0  0  0  0\\n   -2.4503   -1.1766    0.8609 H   0  0  0  0  0  0  0  0  0  0  0  0\\n   -0.3686   -0.0640    0.1228 H   0  0  0  0  0  0  0  0  0  0  0  0\\n   -1.3821   -0.4846   -1.2595 H   0  0  0  0  0  0  0  0  0  0  0  0\\n   -2.2595    1.8638   -1.3311 H   0  0  0  0  0  0  0  0  0  0  0  0\\n   -1.2457    2.2846    0.0517 H   0  0  0  0  0  0  0  0  0  0  0  0\\n   -0.2165    1.2640   -2.6482 H   0  0  0  0  0  0  0  0  0  0  0  0\\n    0.7989    1.6854   -1.2633 H   0  0  0  0  0  0  0  0  0  0  0  0\\n   -0.1688    4.0089   -1.3021 H   0  0  0  0  0  0  0  0  0  0  0  0\\n   -1.1469    3.6030   -2.6363 H   0  0  0  0  0  0  0  0  0  0  0  0\\n  1  2  1  0\\n  1  7  1  0\\n  1  8  1  0\\n  1  9  1  0\\n  2  3  1  0\\n  2 10  1  0\\n  2 11  1  0\\n  3  4  1  0\\n  3 12  1  0\\n  3 13  1  0\\n  4  5  1  0\\n  4 14  1  0\\n  4 15  1  0\\n  5  6  1  0\\n  5 16  1  0\\n  5 17  1  0\\nM  RAD  1   6   2\\nM  END\\n\",\"sdf\");\n",
       "\tviewer_1596232623942817.setStyle({\"stick\": {}});\n",
       "\tviewer_1596232623942817.zoomTo();\n",
       "viewer_1596232623942817.render();\n",
       "});\n",
       "</script>"
      ]
     },
     "metadata": {},
     "output_type": "display_data"
    }
   ],
   "source": [
    "draw_structure(spc1.get_xyz())\n",
    "draw_structure(spc2.get_xyz())"
   ]
  },
  {
   "cell_type": "code",
   "execution_count": 5,
   "metadata": {},
   "outputs": [
    {
     "name": "stdout",
     "output_type": "stream",
     "text": [
      "symbol order between mol1 and mol2 is correct\n",
      "symbol order between mol1 and xyz2 is correct\n"
     ]
    }
   ],
   "source": [
    "# check symbol order (doesn't guarantee that all C's and all H's are ordered correctly)\n",
    "for atom1, atom2 in zip(spc1.mol.atoms, spc2.mol.atoms):\n",
    "    if atom1.element.symbol != atom2.element.symbol:\n",
    "        print('order is incorrect')\n",
    "        break\n",
    "else:\n",
    "    print('symbol order between mol1 and mol2 is correct')\n",
    "\n",
    "for atom1, symbol2 in zip(spc1.mol.atoms, spc2.get_xyz()['symbols']):\n",
    "    if atom1.element.symbol != symbol2:\n",
    "        print('order is incorrect')\n",
    "        break\n",
    "else:\n",
    "    print('symbol order between mol1 and xyz2 is correct')  "
   ]
  },
  {
   "cell_type": "code",
   "execution_count": 6,
   "metadata": {},
   "outputs": [
    {
     "data": {
      "text/plain": [
       "[{<Atom 'C.'>: <Bond \"1.0\">,\n",
       "  <Atom 'H'>: <Bond \"1.0\">,\n",
       "  <Atom 'H'>: <Bond \"1.0\">,\n",
       "  <Atom 'H'>: <Bond \"1.0\">},\n",
       " {<Atom 'C'>: <Bond \"1.0\">,\n",
       "  <Atom 'C'>: <Bond \"1.0\">,\n",
       "  <Atom 'H'>: <Bond \"1.0\">},\n",
       " {<Atom 'C.'>: <Bond \"1.0\">,\n",
       "  <Atom 'C'>: <Bond \"1.0\">,\n",
       "  <Atom 'H'>: <Bond \"1.0\">,\n",
       "  <Atom 'H'>: <Bond \"1.0\">},\n",
       " {<Atom 'C'>: <Bond \"1.0\">,\n",
       "  <Atom 'C'>: <Bond \"1.0\">,\n",
       "  <Atom 'H'>: <Bond \"1.0\">,\n",
       "  <Atom 'H'>: <Bond \"1.0\">},\n",
       " {<Atom 'C'>: <Bond \"1.0\">,\n",
       "  <Atom 'O'>: <Bond \"1.0\">,\n",
       "  <Atom 'H'>: <Bond \"1.0\">,\n",
       "  <Atom 'H'>: <Bond \"1.0\">},\n",
       " {<Atom 'C'>: <Bond \"1.0\">, <Atom 'H'>: <Bond \"1.0\">},\n",
       " {<Atom 'C'>: <Bond \"1.0\">},\n",
       " {<Atom 'C'>: <Bond \"1.0\">},\n",
       " {<Atom 'C'>: <Bond \"1.0\">},\n",
       " {<Atom 'O'>: <Bond \"1.0\">},\n",
       " {<Atom 'C.'>: <Bond \"1.0\">},\n",
       " {<Atom 'C'>: <Bond \"1.0\">},\n",
       " {<Atom 'C'>: <Bond \"1.0\">},\n",
       " {<Atom 'C'>: <Bond \"1.0\">},\n",
       " {<Atom 'C'>: <Bond \"1.0\">},\n",
       " {<Atom 'C'>: <Bond \"1.0\">},\n",
       " {<Atom 'C'>: <Bond \"1.0\">}]"
      ]
     },
     "execution_count": 6,
     "metadata": {},
     "output_type": "execute_result"
    }
   ],
   "source": [
    "[spc1.mol.get_bonds(bond) for bond in spc1.mol.atoms]"
   ]
  },
  {
   "cell_type": "code",
   "execution_count": 7,
   "metadata": {},
   "outputs": [
    {
     "data": {
      "text/plain": [
       "4.0"
      ]
     },
     "execution_count": 7,
     "metadata": {},
     "output_type": "execute_result"
    }
   ],
   "source": [
    "# so I can get the total bond order for each atom. \n",
    "# may be useful as an atom feature for the network \n",
    "spc1.mol.atoms[2].get_total_bond_order()"
   ]
  },
  {
   "cell_type": "code",
   "execution_count": 8,
   "metadata": {},
   "outputs": [],
   "source": [
    "N = spc1.number_of_atoms\n",
    "# coords = euclidean_distances(np.array(spc1.conformers[0]['coords']))\n",
    "coords = sklearn.metrics.pairwise.euclidean_distances(np.array(spc1.conformers[0]['coords']))"
   ]
  },
  {
   "cell_type": "code",
   "execution_count": 9,
   "metadata": {},
   "outputs": [],
   "source": [
    "adjmat = np.zeros([spc1.number_of_atoms, spc1.number_of_atoms])\n",
    "\n",
    "for i, a in enumerate(spc1.mol.atoms):\n",
    "    for j, b in enumerate(spc1.mol.atoms):\n",
    "        try:\n",
    "            adjmat[i,j] = spc1.mol.get_bond(a, b).order\n",
    "        except ValueError:\n",
    "            pass"
   ]
  },
  {
   "cell_type": "code",
   "execution_count": 10,
   "metadata": {},
   "outputs": [
    {
     "data": {
      "text/plain": [
       "array([[0., 1., 0., 0., 0., 0., 1., 1., 1., 0., 0., 0., 0., 0., 0., 0.,\n",
       "        0.],\n",
       "       [1., 0., 1., 0., 0., 0., 0., 0., 0., 0., 1., 0., 0., 0., 0., 0.,\n",
       "        0.],\n",
       "       [0., 1., 0., 1., 0., 0., 0., 0., 0., 0., 0., 1., 1., 0., 0., 0.,\n",
       "        0.],\n",
       "       [0., 0., 1., 0., 1., 0., 0., 0., 0., 0., 0., 0., 0., 1., 1., 0.,\n",
       "        0.],\n",
       "       [0., 0., 0., 1., 0., 1., 0., 0., 0., 0., 0., 0., 0., 0., 0., 1.,\n",
       "        1.],\n",
       "       [0., 0., 0., 0., 1., 0., 0., 0., 0., 1., 0., 0., 0., 0., 0., 0.,\n",
       "        0.],\n",
       "       [1., 0., 0., 0., 0., 0., 0., 0., 0., 0., 0., 0., 0., 0., 0., 0.,\n",
       "        0.],\n",
       "       [1., 0., 0., 0., 0., 0., 0., 0., 0., 0., 0., 0., 0., 0., 0., 0.,\n",
       "        0.],\n",
       "       [1., 0., 0., 0., 0., 0., 0., 0., 0., 0., 0., 0., 0., 0., 0., 0.,\n",
       "        0.],\n",
       "       [0., 0., 0., 0., 0., 1., 0., 0., 0., 0., 0., 0., 0., 0., 0., 0.,\n",
       "        0.],\n",
       "       [0., 1., 0., 0., 0., 0., 0., 0., 0., 0., 0., 0., 0., 0., 0., 0.,\n",
       "        0.],\n",
       "       [0., 0., 1., 0., 0., 0., 0., 0., 0., 0., 0., 0., 0., 0., 0., 0.,\n",
       "        0.],\n",
       "       [0., 0., 1., 0., 0., 0., 0., 0., 0., 0., 0., 0., 0., 0., 0., 0.,\n",
       "        0.],\n",
       "       [0., 0., 0., 1., 0., 0., 0., 0., 0., 0., 0., 0., 0., 0., 0., 0.,\n",
       "        0.],\n",
       "       [0., 0., 0., 1., 0., 0., 0., 0., 0., 0., 0., 0., 0., 0., 0., 0.,\n",
       "        0.],\n",
       "       [0., 0., 0., 0., 1., 0., 0., 0., 0., 0., 0., 0., 0., 0., 0., 0.,\n",
       "        0.],\n",
       "       [0., 0., 0., 0., 1., 0., 0., 0., 0., 0., 0., 0., 0., 0., 0., 0.,\n",
       "        0.]])"
      ]
     },
     "execution_count": 10,
     "metadata": {},
     "output_type": "execute_result"
    }
   ],
   "source": [
    "adjmat"
   ]
  },
  {
   "cell_type": "markdown",
   "metadata": {},
   "source": [
    "**The line below replaces line 179 in featurization.py:** `D_r = Chem.Get3DDistanceMatrix(r_mol)`\n",
    "\n",
    "So this is the bond featurization for the network aka just the bond distance."
   ]
  },
  {
   "cell_type": "code",
   "execution_count": 11,
   "metadata": {},
   "outputs": [
    {
     "data": {
      "text/plain": [
       "array([[0.        , 1.48883246, 2.57953541, 3.88536755, 4.32133504,\n",
       "        5.70122797, 1.09403084, 1.09380974, 1.09362194, 6.14496249,\n",
       "        2.22085065, 2.72000425, 2.98152787, 4.2508974 , 4.70837081,\n",
       "        4.41762294, 3.98573905],\n",
       "       [1.48883246, 0.        , 1.49708749, 2.52586387, 3.10299181,\n",
       "        4.40080371, 2.12759063, 2.13993274, 2.13285435, 4.95003531,\n",
       "        1.08605094, 2.13508454, 2.1152788 , 2.77682169, 3.45500278,\n",
       "        3.46826021, 2.8391052 ],\n",
       "       [2.57953541, 1.49708749, 0.        , 1.52814184, 2.54644977,\n",
       "        3.7724972 , 3.4830218 , 2.79611258, 2.96050963, 4.4750441 ,\n",
       "        2.23840236, 1.09625128, 1.09618433, 2.17199241, 2.15270917,\n",
       "        2.79271485, 2.85097613],\n",
       "       [3.88536755, 2.52586387, 1.52814184, 0.        , 1.52341086,\n",
       "        2.39560001, 4.60304513, 4.10288203, 4.39622256, 3.23287504,\n",
       "        2.78099824, 2.15500762, 2.1485578 , 1.09767635, 1.09755546,\n",
       "        2.16999366, 2.17607099],\n",
       "       [4.32133504, 3.10299181, 2.54644977, 1.52341086, 0.        ,\n",
       "        1.42272459, 4.83525854, 4.33920995, 5.10904201, 1.9430997 ,\n",
       "        3.32498476, 2.76885919, 3.47573228, 2.15440914, 2.14666249,\n",
       "        1.09464471, 1.09421916],\n",
       "       [5.70122797, 4.40080371, 3.7724972 , 2.39560001, 1.42272459,\n",
       "        0.        , 6.16815666, 5.76135581, 6.45845357, 0.97244604,\n",
       "        4.42541786, 4.05250043, 4.53766082, 2.64241612, 2.59941989,\n",
       "        2.05064307, 2.04847403],\n",
       "       [1.09403084, 2.12759063, 3.4830218 , 4.60304513, 4.83525854,\n",
       "        6.16815666, 0.        , 1.76974221, 1.77392812, 6.50893759,\n",
       "        2.44057469, 3.69630563, 3.9515801 , 4.83871031, 5.53493689,\n",
       "        4.99752796, 4.26636924],\n",
       "       [1.09380974, 2.13993274, 2.79611258, 4.10288203, 4.33920995,\n",
       "        5.76135581, 1.76974221, 0.        , 1.78123152, 6.11885516,\n",
       "        3.06738059, 2.49054922, 3.32720167, 4.70777617, 4.81725916,\n",
       "        4.16019722, 4.10235743],\n",
       "       [1.09362194, 2.13285435, 2.96050963, 4.39622256, 5.10904201,\n",
       "        6.45845357, 1.77392812, 1.78123152, 0.        , 6.99932538,\n",
       "        2.75382304, 3.14603726, 2.95964048, 4.68332154, 5.09255542,\n",
       "        5.23242516, 4.89214443],\n",
       "       [6.14496249, 4.95003531, 4.4750441 , 3.23287504, 1.9430997 ,\n",
       "        0.97244604, 6.50893759, 6.11885516, 6.99932538, 0.        ,\n",
       "        4.97683042, 4.6358689 , 5.33925509, 3.52357177, 3.49565721,\n",
       "        2.27826183, 2.26203769],\n",
       "       [2.22085065, 1.08605094, 2.23840236, 2.78099824, 3.32498476,\n",
       "        4.42541786, 2.44057469, 3.06738059, 2.75382304, 4.97683042,\n",
       "        0.        , 3.09529646, 2.70387703, 2.60969935, 3.79653889,\n",
       "        3.9609614 , 2.86538464],\n",
       "       [2.72000425, 2.13508454, 1.09625128, 2.15500762, 2.76885919,\n",
       "        4.05250043, 3.69630563, 2.49054922, 3.14603726, 4.6358689 ,\n",
       "        3.09529646, 0.        , 1.76425111, 3.07121191, 2.50139162,\n",
       "        2.56552919, 3.1815642 ],\n",
       "       [2.98152787, 2.1152788 , 1.09618433, 2.1485578 , 3.47573228,\n",
       "        4.53766082, 3.9515801 , 3.32720167, 2.95964048, 5.33925509,\n",
       "        2.70387703, 1.76425111, 0.        , 2.50816152, 2.42224024,\n",
       "        3.76182089, 3.85476901],\n",
       "       [4.2508974 , 2.77682169, 2.17199241, 1.09767635, 2.15440914,\n",
       "        2.64241612, 4.83871031, 4.70777617, 4.68332154, 3.52357177,\n",
       "        2.60969935, 3.07121191, 2.50816152, 0.        , 1.74682969,\n",
       "        3.07105837, 2.50677029],\n",
       "       [4.70837081, 3.45500278, 2.15270917, 1.09755546, 2.14666249,\n",
       "        2.59941989, 5.53493689, 4.81725916, 5.09255542, 3.49565721,\n",
       "        3.79653889, 2.50139162, 2.42224024, 1.74682969, 0.        ,\n",
       "        2.51746594, 3.06797859],\n",
       "       [4.41762294, 3.46826021, 2.79271485, 2.16999366, 1.09464471,\n",
       "        2.05064307, 4.99752796, 4.16019722, 5.23242516, 2.27826183,\n",
       "        3.9609614 , 2.56552919, 3.76182089, 3.07105837, 2.51746594,\n",
       "        0.        , 1.78248799],\n",
       "       [3.98573905, 2.8391052 , 2.85097613, 2.17607099, 1.09421916,\n",
       "        2.04847403, 4.26636924, 4.10235743, 4.89214443, 2.26203769,\n",
       "        2.86538464, 3.1815642 , 3.85476901, 2.50677029, 3.06797859,\n",
       "        1.78248799, 0.        ]])"
      ]
     },
     "execution_count": 11,
     "metadata": {},
     "output_type": "execute_result"
    }
   ],
   "source": [
    "D_r = arc.species.converter.xyz_to_dmat(spc1.get_xyz())\n",
    "D_r"
   ]
  },
  {
   "cell_type": "code",
   "execution_count": null,
   "metadata": {},
   "outputs": [],
   "source": []
  },
  {
   "cell_type": "markdown",
   "metadata": {},
   "source": [
    "Test getting the aromaticity of each atom in the molecule. Seems to work fine"
   ]
  },
  {
   "cell_type": "code",
   "execution_count": 12,
   "metadata": {},
   "outputs": [],
   "source": [
    "from rmgpy.molecule.resonance import generate_optimal_aromatic_resonance_structures"
   ]
  },
  {
   "cell_type": "code",
   "execution_count": 13,
   "metadata": {},
   "outputs": [],
   "source": [
    "def get_aromatic_atom_indicies(molecule):\n",
    "    # molecule must be an RMG Molecule object\n",
    "    aromatic_atom_indices= list()\n",
    "    for atom in resonance_structure.atoms:\n",
    "        for bond in atom.edges.values():\n",
    "            if bond.is_benzene():\n",
    "                aromatic_atom_indices.append(resonance_structure.atoms.index(atom))\n",
    "                break\n",
    "    return aromatic_atom_indices     "
   ]
  },
  {
   "cell_type": "code",
   "execution_count": 14,
   "metadata": {},
   "outputs": [
    {
     "data": {
      "text/plain": [
       "array([[0.        , 1.39482592, 2.41590935, 2.78965183, 2.41590935,\n",
       "        1.39482592, 1.08673001, 2.15460453, 3.40073487, 3.87638183,\n",
       "        3.40073487, 2.15460452],\n",
       "       [1.39482592, 0.        , 1.39482592, 2.41590935, 2.78965183,\n",
       "        2.41590935, 2.15460453, 1.08673001, 2.15460452, 3.40073487,\n",
       "        3.87638183, 3.40073487],\n",
       "       [2.41590935, 1.39482592, 0.        , 1.39482591, 2.41590935,\n",
       "        2.78965183, 3.40073487, 2.15460451, 1.08673001, 2.15460452,\n",
       "        3.40073485, 3.87638184],\n",
       "       [2.78965183, 2.41590935, 1.39482591, 0.        , 1.39482591,\n",
       "        2.41590935, 3.87638184, 3.40073486, 2.15460451, 1.08673   ,\n",
       "        2.1546045 , 3.40073486],\n",
       "       [2.41590935, 2.78965183, 2.41590935, 1.39482591, 0.        ,\n",
       "        1.39482591, 3.40073486, 3.87638184, 3.40073486, 2.1546045 ,\n",
       "        1.08673   , 2.15460451],\n",
       "       [1.39482592, 2.41590935, 2.78965183, 2.41590935, 1.39482591,\n",
       "        0.        , 2.15460451, 3.40073488, 3.87638184, 3.40073486,\n",
       "        2.15460452, 1.08673001],\n",
       "       [1.08673001, 2.15460453, 3.40073487, 3.87638184, 3.40073486,\n",
       "        2.15460451, 0.        , 2.48155595, 4.29818095, 4.96311184,\n",
       "        4.29818094, 2.48155592],\n",
       "       [2.15460453, 1.08673001, 2.15460451, 3.40073486, 3.87638184,\n",
       "        3.40073488, 2.48155595, 0.        , 2.48155592, 4.29818093,\n",
       "        4.96311184, 4.29818095],\n",
       "       [3.40073487, 2.15460452, 1.08673001, 2.15460451, 3.40073486,\n",
       "        3.87638184, 4.29818095, 2.48155592, 0.        , 2.48155592,\n",
       "        4.29818092, 4.96311184],\n",
       "       [3.87638183, 3.40073487, 2.15460452, 1.08673   , 2.1546045 ,\n",
       "        3.40073486, 4.96311184, 4.29818093, 2.48155592, 0.        ,\n",
       "        2.48155589, 4.29818092],\n",
       "       [3.40073487, 3.87638183, 3.40073485, 2.1546045 , 1.08673   ,\n",
       "        2.15460452, 4.29818094, 4.96311184, 4.29818092, 2.48155589,\n",
       "        0.        , 2.48155593],\n",
       "       [2.15460452, 3.40073487, 3.87638184, 3.40073486, 2.15460451,\n",
       "        1.08673001, 2.48155592, 4.29818095, 4.96311184, 4.29818092,\n",
       "        2.48155593, 0.        ]])"
      ]
     },
     "execution_count": 14,
     "metadata": {},
     "output_type": "execute_result"
    }
   ],
   "source": [
    "spc = ARCSpecies(label='benzene', smiles='c1ccccc1', multiplicity=2, charge=0)\n",
    "resonance_structure = generate_optimal_aromatic_resonance_structures(spc.mol)[0]\n",
    "resonance_structure\n",
    "D_r = arc.species.converter.xyz_to_dmat(spc.get_xyz())\n",
    "D_r"
   ]
  },
  {
   "cell_type": "code",
   "execution_count": 15,
   "metadata": {
    "scrolled": true
   },
   "outputs": [
    {
     "data": {
      "text/plain": [
       "[<Atom 'C'>,\n",
       " <Atom 'C'>,\n",
       " <Atom 'C'>,\n",
       " <Atom 'C'>,\n",
       " <Atom 'C'>,\n",
       " <Atom 'C'>,\n",
       " <Atom 'H'>,\n",
       " <Atom 'H'>,\n",
       " <Atom 'H'>,\n",
       " <Atom 'H'>,\n",
       " <Atom 'H'>,\n",
       " <Atom 'H'>]"
      ]
     },
     "execution_count": 15,
     "metadata": {},
     "output_type": "execute_result"
    }
   ],
   "source": [
    "spc.mol.atoms"
   ]
  },
  {
   "cell_type": "code",
   "execution_count": 16,
   "metadata": {},
   "outputs": [
    {
     "data": {
      "text/plain": [
       "[0, 1, 2, 3, 4, 5]"
      ]
     },
     "execution_count": 16,
     "metadata": {},
     "output_type": "execute_result"
    }
   ],
   "source": [
    "# first 6 indices correspond to atoms that are aromatic\n",
    "get_aromatic_atom_indicies(spc.mol)"
   ]
  },
  {
   "cell_type": "code",
   "execution_count": null,
   "metadata": {},
   "outputs": [],
   "source": []
  },
  {
   "cell_type": "code",
   "execution_count": 17,
   "metadata": {},
   "outputs": [
    {
     "data": {
      "text/plain": [
       "<arc.species.species.ARCSpecies at 0x7fb970e2a1d0>"
      ]
     },
     "execution_count": 17,
     "metadata": {},
     "output_type": "execute_result"
    }
   ],
   "source": [
    "# try a more complex species\n",
    "spc = ARCSpecies(label='drug', smiles='[O]OC(c1cc(ccc1OC)C(C)C)NC(C)C', multiplicity=2, charge=0)\n",
    "spc"
   ]
  },
  {
   "cell_type": "code",
   "execution_count": 18,
   "metadata": {},
   "outputs": [
    {
     "data": {
      "text/plain": [
       "40"
      ]
     },
     "execution_count": 18,
     "metadata": {},
     "output_type": "execute_result"
    }
   ],
   "source": [
    "spc.number_of_atoms"
   ]
  },
  {
   "cell_type": "code",
   "execution_count": 19,
   "metadata": {},
   "outputs": [
    {
     "data": {
      "text/plain": [
       "[Molecule(smiles=\"COC1C=CC(=CC=1C(NC(C)C)O[O])C(C)C\")]"
      ]
     },
     "execution_count": 19,
     "metadata": {},
     "output_type": "execute_result"
    }
   ],
   "source": [
    "# try getting info about whether each atom is aromatic\n",
    "generate_optimal_aromatic_resonance_structures(spc.mol)"
   ]
  },
  {
   "cell_type": "code",
   "execution_count": 20,
   "metadata": {},
   "outputs": [
    {
     "data": {
      "image/png": "[encoded data removed]",
      "text/plain": [
       "Molecule(smiles=\"COC1C=CC(=CC=1C(NC(C)C)O[O])C(C)C\")"
      ]
     },
     "execution_count": 20,
     "metadata": {},
     "output_type": "execute_result"
    }
   ],
   "source": [
    "resonance_structure = generate_optimal_aromatic_resonance_structures(spc.mol)[0]\n",
    "resonance_structure"
   ]
  },
  {
   "cell_type": "code",
   "execution_count": 21,
   "metadata": {
    "scrolled": true
   },
   "outputs": [
    {
     "data": {
      "text/plain": [
       "[<Atom 'O'>,\n",
       " <Atom 'O'>,\n",
       " <Atom 'O.'>,\n",
       " <Atom 'N'>,\n",
       " <Atom 'C'>,\n",
       " <Atom 'C'>,\n",
       " <Atom 'C'>,\n",
       " <Atom 'C'>,\n",
       " <Atom 'C'>,\n",
       " <Atom 'C'>,\n",
       " <Atom 'C'>,\n",
       " <Atom 'C'>,\n",
       " <Atom 'C'>,\n",
       " <Atom 'C'>,\n",
       " <Atom 'C'>,\n",
       " <Atom 'C'>,\n",
       " <Atom 'C'>,\n",
       " <Atom 'C'>,\n",
       " <Atom 'H'>,\n",
       " <Atom 'H'>,\n",
       " <Atom 'H'>,\n",
       " <Atom 'H'>,\n",
       " <Atom 'H'>,\n",
       " <Atom 'H'>,\n",
       " <Atom 'H'>,\n",
       " <Atom 'H'>,\n",
       " <Atom 'H'>,\n",
       " <Atom 'H'>,\n",
       " <Atom 'H'>,\n",
       " <Atom 'H'>,\n",
       " <Atom 'H'>,\n",
       " <Atom 'H'>,\n",
       " <Atom 'H'>,\n",
       " <Atom 'H'>,\n",
       " <Atom 'H'>,\n",
       " <Atom 'H'>,\n",
       " <Atom 'H'>,\n",
       " <Atom 'H'>,\n",
       " <Atom 'H'>,\n",
       " <Atom 'H'>]"
      ]
     },
     "execution_count": 21,
     "metadata": {},
     "output_type": "execute_result"
    }
   ],
   "source": [
    "spc.mol.atoms"
   ]
  },
  {
   "cell_type": "code",
   "execution_count": 22,
   "metadata": {
    "scrolled": true
   },
   "outputs": [
    {
     "data": {
      "text/plain": [
       "[12, 13, 14, 15, 16, 17]"
      ]
     },
     "execution_count": 22,
     "metadata": {},
     "output_type": "execute_result"
    }
   ],
   "source": [
    "aromatic_atom_indices = get_aromatic_atom_indicies(spc.mol)\n",
    "aromatic_atom_indices"
   ]
  },
  {
   "cell_type": "code",
   "execution_count": 23,
   "metadata": {},
   "outputs": [
    {
     "data": {
      "text/plain": [
       "[<Atom 'C'>, <Atom 'C'>, <Atom 'C'>, <Atom 'C'>, <Atom 'C'>, <Atom 'C'>]"
      ]
     },
     "execution_count": 23,
     "metadata": {},
     "output_type": "execute_result"
    }
   ],
   "source": [
    "[spc.mol.atoms[index] for index in aromatic_atom_indices]"
   ]
  },
  {
   "cell_type": "code",
   "execution_count": null,
   "metadata": {},
   "outputs": [],
   "source": []
  },
  {
   "cell_type": "code",
   "execution_count": null,
   "metadata": {},
   "outputs": [],
   "source": []
  },
  {
   "cell_type": "markdown",
   "metadata": {},
   "source": [
    "Create `data` that is passed to the GNN. Similar to `molgraph2data` in featurization\n",
    "\n",
    "- f_atoms is just a list of lists of atom featurs. It will form a square torch tensor\n",
    "- f_bonds is just a list of lists of bond features. It will form a square torch tensor"
   ]
  },
  {
   "cell_type": "code",
   "execution_count": 24,
   "metadata": {},
   "outputs": [],
   "source": [
    "from rdkit import Chem\n",
    "from rdkit.Chem.rdchem import ChiralType\n",
    "import torch\n",
    "import torch_geometric as tg\n",
    "from torch_geometric.data import Dataset, DataLoader\n",
    "from tqdm import tqdm\n",
    "from typing import List, Tuple, Union\n",
    "import yaml\n",
    "\n",
    "from model.G2C import G2C\n",
    "\n",
    "\n",
    "# Atom feature sizes\n",
    "ATOMIC_SYMBOLS = ['H', 'C', 'N', 'O']\n",
    "ATOM_FEATURES = {\n",
    "    'atomic_num': ATOMIC_SYMBOLS,\n",
    "    'degree': [0, 1, 2, 3, 4, 5],\n",
    "    'formal_charge': [-1, -2, 1, 2, 0],\n",
    "    'chiral_tag': [0, 1, 2, 3], \n",
    "    'num_Hs': [0, 1, 2, 3, 4],\n",
    "    'hybridization': [\n",
    "        Chem.rdchem.HybridizationType.SP,\n",
    "        Chem.rdchem.HybridizationType.SP2,\n",
    "        Chem.rdchem.HybridizationType.SP3,\n",
    "        Chem.rdchem.HybridizationType.SP3D,\n",
    "        Chem.rdchem.HybridizationType.SP3D2\n",
    "    ],\n",
    "}\n",
    "CHIRALTAG_PARITY = {\n",
    "    ChiralType.CHI_TETRAHEDRAL_CW: +1,\n",
    "    ChiralType.CHI_TETRAHEDRAL_CCW: -1,\n",
    "    ChiralType.CHI_UNSPECIFIED: 0,\n",
    "    ChiralType.CHI_OTHER: 0, # default\n",
    "}\n",
    "\n",
    "# len(choices) + 1 to include room for uncommon values; + 2 at end for IsAromatic and mass\n",
    "ATOM_FDIM = sum(len(choices) + 1 for choices in ATOM_FEATURES.values()) + 2\n",
    "BOND_FDIM = 7\n",
    "\n",
    "\n",
    "def onek_encoding_unk(value: int, choices: List[int]) -> List[int]:\n",
    "    \"\"\"\n",
    "    Creates a one-hot encoding.\n",
    "    :param value: The value for which the encoding should be one.\n",
    "    :param choices: A list of possible values.\n",
    "    :return: A one-hot encoding of the value in a list of length len(choices) + 1.\n",
    "    If value is not in the list of choices, then the final element in the encoding is 1.\n",
    "    \"\"\"\n",
    "    encoding = [0] * (len(choices) + 1)\n",
    "    index = choices.index(value) if value in choices else -1\n",
    "    encoding[index] = 1\n",
    "\n",
    "    return encoding\n",
    "\n",
    "\n",
    "def atom_features(atom, #: rmgpy.molecule.molecule.Atom,\n",
    "                  aromatic: bool = False,\n",
    "                  functional_groups: List[int] = None\n",
    "                 ) -> List[Union[bool, int, float]]:\n",
    "    \"\"\"\n",
    "    Builds a feature vector for an atom.\n",
    "    :param atom: An instance of rmgpy.molecule.molecule.Atom class.\n",
    "    :param aromatic: Boolean for whether this atom is aromatic.\n",
    "    :param functional_groups: A k-hot vector indicating the functional groups the atom belongs to.\n",
    "    :return: A list containing the atom features.\n",
    "    \"\"\"\n",
    "\n",
    "    features = onek_encoding_unk(atom.symbol, ATOM_FEATURES['atomic_num']) + \\\n",
    "                                [1 if aromatic else 0] + \\\n",
    "                                [atom.mass * 10]  # atom.mass [=] kg. Multiply by 10 (hectograms) to scale to similar range as other features\n",
    "                            #        onek_encoding_unk(atom.GetTotalDegree(), ATOM_FEATURES['degree']) + \\\n",
    "                            #        onek_encoding_unk(atom.GetFormalCharge(), ATOM_FEATURES['formal_charge']) + \\\n",
    "                            #        onek_encoding_unk(int(atom.GetChiralTag()), ATOM_FEATURES['chiral_tag'])\n",
    "                            # features +=  onek_encoding_unk(int(atom.GetTotalNumHs()), ATOM_FEATURES['num_Hs']) + \\\n",
    "                            #        onek_encoding_unk(int(atom.GetHybridization()), ATOM_FEATURES['hybridization']) + \\\n",
    "    if functional_groups is not None:\n",
    "        features += functional_groups\n",
    "    return features"
   ]
  },
  {
   "cell_type": "markdown",
   "metadata": {},
   "source": [
    "For now, the atom features are:\n",
    "- first 4 features are one hot for whether the atom is H, C, N, O plus an extra 1 feature for unknown atom not in HCNO\n",
    "- next 1 feature is for one hot of aromatic or not\n",
    "- last feature is numeric: atomic mass in kg/mol * 10 to scale to between 0.01 for H and 0.12 for C\n",
    "Had to change the `atom_features` function from featurization to accomodate `rmgpy.molecule.molecule.Atom` class rather than RDKit"
   ]
  },
  {
   "cell_type": "code",
   "execution_count": 25,
   "metadata": {},
   "outputs": [
    {
     "data": {
      "image/png": "[encoded data removed]",
      "text/plain": [
       "Molecule(smiles=\"c1ccccc1\")"
      ]
     },
     "execution_count": 25,
     "metadata": {},
     "output_type": "execute_result"
    }
   ],
   "source": [
    "# try a simple dummy isomerization reaction\n",
    "spc = ARCSpecies(label='benzene', smiles='c1ccccc1', multiplicity=2, charge=0)\n",
    "reactant = spc\n",
    "product = spc\n",
    "resonance_structure = generate_optimal_aromatic_resonance_structures(spc.mol)[0]\n",
    "resonance_structure"
   ]
  },
  {
   "cell_type": "code",
   "execution_count": 26,
   "metadata": {},
   "outputs": [
    {
     "data": {
      "text/plain": [
       "array([[0.        , 1.39482592, 2.41590935, 2.78965183, 2.41590935,\n",
       "        1.39482592, 1.08673001, 2.15460453, 3.40073487, 3.87638183,\n",
       "        3.40073487, 2.15460452],\n",
       "       [1.39482592, 0.        , 1.39482592, 2.41590935, 2.78965183,\n",
       "        2.41590935, 2.15460453, 1.08673001, 2.15460452, 3.40073487,\n",
       "        3.87638183, 3.40073487],\n",
       "       [2.41590935, 1.39482592, 0.        , 1.39482591, 2.41590935,\n",
       "        2.78965183, 3.40073487, 2.15460451, 1.08673001, 2.15460452,\n",
       "        3.40073485, 3.87638184],\n",
       "       [2.78965183, 2.41590935, 1.39482591, 0.        , 1.39482591,\n",
       "        2.41590935, 3.87638184, 3.40073486, 2.15460451, 1.08673   ,\n",
       "        2.1546045 , 3.40073486],\n",
       "       [2.41590935, 2.78965183, 2.41590935, 1.39482591, 0.        ,\n",
       "        1.39482591, 3.40073486, 3.87638184, 3.40073486, 2.1546045 ,\n",
       "        1.08673   , 2.15460451],\n",
       "       [1.39482592, 2.41590935, 2.78965183, 2.41590935, 1.39482591,\n",
       "        0.        , 2.15460451, 3.40073488, 3.87638184, 3.40073486,\n",
       "        2.15460452, 1.08673001],\n",
       "       [1.08673001, 2.15460453, 3.40073487, 3.87638184, 3.40073486,\n",
       "        2.15460451, 0.        , 2.48155595, 4.29818095, 4.96311184,\n",
       "        4.29818094, 2.48155592],\n",
       "       [2.15460453, 1.08673001, 2.15460451, 3.40073486, 3.87638184,\n",
       "        3.40073488, 2.48155595, 0.        , 2.48155592, 4.29818093,\n",
       "        4.96311184, 4.29818095],\n",
       "       [3.40073487, 2.15460452, 1.08673001, 2.15460451, 3.40073486,\n",
       "        3.87638184, 4.29818095, 2.48155592, 0.        , 2.48155592,\n",
       "        4.29818092, 4.96311184],\n",
       "       [3.87638183, 3.40073487, 2.15460452, 1.08673   , 2.1546045 ,\n",
       "        3.40073486, 4.96311184, 4.29818093, 2.48155592, 0.        ,\n",
       "        2.48155589, 4.29818092],\n",
       "       [3.40073487, 3.87638183, 3.40073485, 2.1546045 , 1.08673   ,\n",
       "        2.15460452, 4.29818094, 4.96311184, 4.29818092, 2.48155589,\n",
       "        0.        , 2.48155593],\n",
       "       [2.15460452, 3.40073487, 3.87638184, 3.40073486, 2.15460451,\n",
       "        1.08673001, 2.48155592, 4.29818095, 4.96311184, 4.29818092,\n",
       "        2.48155593, 0.        ]])"
      ]
     },
     "execution_count": 26,
     "metadata": {},
     "output_type": "execute_result"
    }
   ],
   "source": [
    "D_r = arc.species.converter.xyz_to_dmat(reactant.get_xyz())\n",
    "D_p = arc.species.converter.xyz_to_dmat(product.get_xyz())\n",
    "D_p"
   ]
  },
  {
   "cell_type": "code",
   "execution_count": 31,
   "metadata": {},
   "outputs": [
    {
     "data": {
      "text/plain": [
       "[[0, 1, 0, 0, 0, 1, 0.12010700069367886],\n",
       " [0, 1, 0, 0, 0, 1, 0.12010700069367886],\n",
       " [0, 1, 0, 0, 0, 1, 0.12010700069367886],\n",
       " [0, 1, 0, 0, 0, 1, 0.12010700069367886],\n",
       " [0, 1, 0, 0, 0, 1, 0.12010700069367886],\n",
       " [0, 1, 0, 0, 0, 1, 0.12010700069367886],\n",
       " [1, 0, 0, 0, 0, 0, 0.010079400381073356],\n",
       " [1, 0, 0, 0, 0, 0, 0.010079400381073356],\n",
       " [1, 0, 0, 0, 0, 0, 0.010079400381073356],\n",
       " [1, 0, 0, 0, 0, 0, 0.010079400381073356],\n",
       " [1, 0, 0, 0, 0, 0, 0.010079400381073356],\n",
       " [1, 0, 0, 0, 0, 0, 0.010079400381073356]]"
      ]
     },
     "execution_count": 31,
     "metadata": {},
     "output_type": "execute_result"
    }
   ],
   "source": [
    "f_atoms = list()        # atom (node) features\n",
    "edge_index = list()     # list of tuples indicating presence of bonds\n",
    "f_bonds = list()        # bond (edge) features\n",
    "\n",
    "n_atoms = len(spc.mol.atoms)   # number of atoms\n",
    "aromatic_atom_indices = get_aromatic_atom_indicies(spc.mol)  \n",
    "\n",
    "for a1, atom in enumerate(spc.mol.atoms):\n",
    "    # print(type(atom))  # of type: rmgpy.molecule.molecule.Atom\n",
    "    aromatic = True if a1 in aromatic_atom_indices else False\n",
    "    f_atoms.append(atom_features(atom, aromatic))\n",
    "    \n",
    "    # Edge features\n",
    "    for a2 in range(a1 + 1, n_atoms):\n",
    "        # fully connected graph\n",
    "        edge_index.extend([(a1, a2), (a2, a1)])\n",
    "        \n",
    "        # for now, naively include distance both reac and prod\n",
    "        b1_feats = [D_r[a1][a2], D_p[a1][a2]]\n",
    "        b2_feats = [D_r[a2][a1], D_p[a2][a1]]\n",
    "        \n",
    "        f_bonds.append(b1_feats)\n",
    "        f_bonds.append(b2_feats)\n",
    "        \n",
    "# print(edge_index)\n",
    "f_atoms\n",
    "# columns of the f_atoms output are:\n",
    "# H, C, N, O, X, aromatic, mass in hectograms "
   ]
  },
  {
   "cell_type": "code",
   "execution_count": 38,
   "metadata": {},
   "outputs": [],
   "source": [
    "data = tg.data.Data()\n",
    "data.x = torch.tensor(f_atoms, dtype=torch.float)\n",
    "data.edge_index = torch.tensor(edge_index, dtype=torch.long).t().contiguous()\n",
    "data.edge_attr = torch.tensor(f_bonds, dtype=torch.float)"
   ]
  },
  {
   "cell_type": "code",
   "execution_count": 41,
   "metadata": {},
   "outputs": [],
   "source": [
    "# must define a batch attribute\n",
    "data_list = [data, data, data]\n",
    "\n",
    "loader = DataLoader(data_list, batch_size=20)\n",
    "# data.batch = torch.tensor([0])"
   ]
  },
  {
   "cell_type": "markdown",
   "metadata": {},
   "source": [
    "Try passing data through the model. It works! 😎"
   ]
  },
  {
   "cell_type": "code",
   "execution_count": 42,
   "metadata": {},
   "outputs": [
    {
     "name": "stderr",
     "output_type": "stream",
     "text": [
      "100%|██████████| 1/1 [00:00<00:00, 12.23it/s]"
     ]
    },
    {
     "name": "stdout",
     "output_type": "stream",
     "text": [
      "tensor([[[0.0000, 1.4497, 2.3657, 2.7500, 2.3925, 1.3992, 1.1006, 2.1842,\n",
      "          3.2826, 3.8212, 3.3789, 2.1601],\n",
      "         [1.4497, 0.0000, 1.4267, 2.3895, 2.7449, 2.4016, 2.2576, 1.0838,\n",
      "          2.2120, 3.3915, 3.6967, 3.3651],\n",
      "         [2.3657, 1.4267, 0.0000, 1.3939, 2.3987, 2.7593, 3.3284, 2.1994,\n",
      "          1.1063, 2.1728, 3.3701, 3.8486],\n",
      "         [2.7500, 2.3895, 1.3939, 0.0000, 1.3846, 2.3878, 3.8174, 3.3800,\n",
      "          2.1892, 1.0888, 2.1854, 3.3814],\n",
      "         [2.3925, 2.7449, 2.3987, 1.3846, 0.0000, 1.3775, 3.3694, 3.8213,\n",
      "          3.3861, 2.1157, 1.2169, 2.1491],\n",
      "         [1.3992, 2.4016, 2.7593, 2.3878, 1.3775, 0.0000, 2.1633, 3.3666,\n",
      "          3.8087, 3.3451, 2.1848, 1.0957],\n",
      "         [1.1006, 2.2576, 3.3284, 3.8174, 3.3694, 2.1633, 0.0000, 2.5929,\n",
      "          4.1107, 4.8742, 4.3087, 2.5088],\n",
      "         [2.1842, 1.0838, 2.1994, 3.3800, 3.8213, 3.3666, 2.5929, 0.0000,\n",
      "          2.5899, 4.3085, 4.7369, 4.2320],\n",
      "         [3.2826, 2.2120, 1.1063, 2.1892, 3.3861, 3.8087, 4.1107, 2.5899,\n",
      "          0.0000, 2.5660, 4.3323, 4.8979],\n",
      "         [3.8212, 3.3915, 2.1728, 1.0888, 2.1157, 3.3451, 4.8742, 4.3085,\n",
      "          2.5660, 0.0000, 2.5375, 4.2492],\n",
      "         [3.3789, 3.6967, 3.3701, 2.1854, 1.2169, 2.1848, 4.3087, 4.7369,\n",
      "          4.3323, 2.5375, 0.0000, 2.5240],\n",
      "         [2.1601, 3.3651, 3.8486, 3.3814, 2.1491, 1.0957, 2.5088, 4.2320,\n",
      "          4.8979, 4.2492, 2.5240, 0.0000]],\n",
      "\n",
      "        [[0.0000, 1.3940, 2.3897, 2.7561, 2.3720, 1.4335, 1.0965, 2.1550,\n",
      "          3.3871, 3.8349, 3.3038, 2.1969],\n",
      "         [1.3940, 0.0000, 1.3963, 2.4004, 2.7568, 2.3655, 2.1863, 1.0904,\n",
      "          2.1549, 3.3923, 3.8270, 3.3524],\n",
      "         [2.3897, 1.3963, 0.0000, 1.3913, 2.3906, 2.7480, 3.3743, 2.1484,\n",
      "          1.1131, 2.1540, 3.3682, 3.8306],\n",
      "         [2.7561, 2.4004, 1.3913, 0.0000, 1.3819, 2.3764, 3.8276, 3.3824,\n",
      "          2.1441, 1.0978, 2.1804, 3.3469],\n",
      "         [2.3720, 2.7568, 2.3906, 1.3819, 0.0000, 1.4086, 3.3278, 3.8409,\n",
      "          3.3714, 2.1389, 1.1386, 2.1470],\n",
      "         [1.4335, 2.3655, 2.7480, 2.3764, 1.4086, 0.0000, 2.2144, 3.3515,\n",
      "          3.7958, 3.3692, 2.2317, 1.0879],\n",
      "         [1.0965, 2.1863, 3.3743, 3.8276, 3.3278, 2.2144, 0.0000, 2.5335,\n",
      "          4.3061, 4.8936, 4.1212, 2.5712],\n",
      "         [2.1550, 1.0904, 2.1484, 3.3824, 3.8409, 3.3515, 2.5335, 0.0000,\n",
      "          2.4842, 4.2871, 4.9001, 4.2533],\n",
      "         [3.3871, 2.1549, 1.1131, 2.1441, 3.3714, 3.7958, 4.3061, 2.4842,\n",
      "          0.0000, 2.4932, 4.2928, 4.8722],\n",
      "         [3.8349, 3.3923, 2.1540, 1.0978, 2.1389, 3.3692, 4.8936, 4.2871,\n",
      "          2.4932, 0.0000, 2.4969, 4.2479],\n",
      "         [3.3038, 3.8270, 3.3682, 2.1804, 1.1386, 2.2317, 4.1212, 4.9001,\n",
      "          4.2928, 2.4969, 0.0000, 2.5568],\n",
      "         [2.1969, 3.3524, 3.8306, 3.3469, 2.1470, 1.0879, 2.5712, 4.2533,\n",
      "          4.8722, 4.2479, 2.5568, 0.0000]],\n",
      "\n",
      "        [[0.0000, 1.3854, 2.3849, 2.7576, 2.3947, 1.4093, 1.0992, 2.1716,\n",
      "          3.3605, 3.8215, 3.3374, 2.1604],\n",
      "         [1.3854, 0.0000, 1.4034, 2.3879, 2.7652, 2.3981, 2.1454, 1.1495,\n",
      "          2.1577, 3.3355, 3.8165, 3.3769],\n",
      "         [2.3849, 1.4034, 0.0000, 1.4088, 2.3866, 2.7100, 3.3806, 2.2319,\n",
      "          1.0841, 2.1972, 3.4085, 3.7852],\n",
      "         [2.7576, 2.3879, 1.4088, 0.0000, 1.3843, 2.3892, 3.8399, 3.3333,\n",
      "          2.1683, 1.1175, 2.1701, 3.3712],\n",
      "         [2.3947, 2.7652, 2.3866, 1.3843, 0.0000, 1.3958, 3.3789, 3.8196,\n",
      "          3.3634, 2.1785, 1.1467, 2.1511],\n",
      "         [1.4093, 2.3981, 2.7100, 2.3892, 1.3958, 0.0000, 2.1947, 3.4120,\n",
      "          3.7747, 3.4045, 2.2001, 1.0867],\n",
      "         [1.0992, 2.1454, 3.3806, 3.8399, 3.3789, 2.1947, 0.0000, 2.4839,\n",
      "          4.2712, 4.8840, 4.2016, 2.5267],\n",
      "         [2.1716, 1.1495, 2.2319, 3.3333, 3.8196, 3.4120, 2.4839, 0.0000,\n",
      "          2.6003, 4.1258, 4.7999, 4.3100],\n",
      "         [3.3605, 2.1577, 1.0841, 2.1683, 3.3634, 3.7747, 4.2712, 2.6003,\n",
      "          0.0000, 2.5532, 4.3161, 4.8425],\n",
      "         [3.8215, 3.3355, 2.1972, 1.1175, 2.1785, 3.4045, 4.8840, 4.1258,\n",
      "          2.5532, 0.0000, 2.5027, 4.3091],\n",
      "         [3.3374, 3.8165, 3.4085, 2.1701, 1.1467, 2.2001, 4.2016, 4.7999,\n",
      "          4.3161, 2.5027, 0.0000, 2.5427],\n",
      "         [2.1604, 3.3769, 3.7852, 3.3712, 2.1511, 1.0867, 2.5267, 4.3100,\n",
      "          4.8425, 4.3091, 2.5427, 0.0000]]], grad_fn=<MulBackward0>)\n"
     ]
    },
    {
     "name": "stderr",
     "output_type": "stream",
     "text": [
      "\n"
     ]
    }
   ],
   "source": [
    "# set device\n",
    "device = torch.device('cuda' if torch.cuda.is_available() else 'cpu')\n",
    "# define paths\n",
    "yaml_file_name = 'best_model/model_paramaters.yml'\n",
    "state_dict = 'best_model/epoch_95_state_dict'\n",
    "\n",
    "# create the network with the best architecture from hyperopt and load the corresponding best weights\n",
    "with open(yaml_file_name, 'r') as f:\n",
    "    content = yaml.load(stream=f, Loader=yaml.FullLoader)\n",
    "model = G2C(**content).to(device)\n",
    "model.load_state_dict(torch.load(state_dict, map_location=device))\n",
    "model.eval()\n",
    "\n",
    "for data in tqdm(loader):\n",
    "    data = data.to(device)\n",
    "    out, mask = model(data)\n",
    "    print(out)"
   ]
  },
  {
   "cell_type": "code",
   "execution_count": null,
   "metadata": {},
   "outputs": [],
   "source": []
  },
  {
   "cell_type": "code",
   "execution_count": null,
   "metadata": {},
   "outputs": [],
   "source": []
  },
  {
   "cell_type": "code",
   "execution_count": null,
   "metadata": {},
   "outputs": [],
   "source": []
  },
  {
   "cell_type": "code",
   "execution_count": null,
   "metadata": {},
   "outputs": [],
   "source": []
  },
  {
   "cell_type": "code",
   "execution_count": null,
   "metadata": {},
   "outputs": [],
   "source": []
  },
  {
   "cell_type": "code",
   "execution_count": null,
   "metadata": {},
   "outputs": [],
   "source": []
  },
  {
   "cell_type": "code",
   "execution_count": null,
   "metadata": {},
   "outputs": [],
   "source": []
  },
  {
   "cell_type": "code",
   "execution_count": null,
   "metadata": {},
   "outputs": [],
   "source": [
    "# ignore this! it's from ts_gen_v1 using tensorflow 1.14\n",
    "import numpy as np\n",
    "import tensorflow as tf\n",
    "from sklearn.metrics.pairwise import euclidean_distances\n",
    "\n",
    "elements = \"HCNO\"\n",
    "num_elements = len(elements)\n",
    "\n",
    "def prepare_batch(batch_mols):\n",
    "\n",
    "    # Initialization\n",
    "    size = len(batch_mols)\n",
    "    max_size = max([mol.number_of_atoms for mol in batch_mols])\n",
    "    V = np.zeros((size, max_size, num_elements + 1), dtype=np.float32)\n",
    "    E = np.zeros((size, max_size, max_size, 3), dtype=np.float32)\n",
    "    sizes = np.zeros(size, dtype=np.int32)\n",
    "    coordinates = np.zeros((size, max_size, 3), dtype=np.float32)\n",
    "\n",
    "    # Build atom features\n",
    "    for bx in range(size):\n",
    "        reactant, product = batch_mols[bx]\n",
    "        N_atoms = reactant.number_of_atoms\n",
    "        sizes[bx] = int(N_atoms)\n",
    "\n",
    "        # Topological distances matrix\n",
    "        MAX_D = 10.\n",
    "        D = (Chem.GetDistanceMatrix(reactant) + Chem.GetDistanceMatrix(product)) / 2\n",
    "        D[D > MAX_D] = 10.\n",
    "\n",
    "        r_dist_mat = euclidean_distances(np.array(reactant.conformers[0]['coords']))\n",
    "        p_dist_mat = euclidean_distances(np.array(product.conformers[0]['coords']))\n",
    "        D_3D_rbf = np.exp(-((r_dist_mat+p_dist_mat)/2))\n",
    "\n",
    "        for i in range(N_atoms):\n",
    "            # Edge features\n",
    "            for j in range(N_atoms):\n",
    "                E[bx, i, j, 2] = D_3D_rbf[i][j]\n",
    "                if D[i][j] == 1.:  # if stays bonded\n",
    "                    if reactant.GetBondBetweenAtoms(i, j).GetIsAromatic():\n",
    "                        E[bx, i, j, 0] = 1.\n",
    "                    E[bx, i, j, 1] = 1.\n",
    "\n",
    "            # Recover coordinates; adapted for all\n",
    "            # for k, mol_typ in enumerate([reactant, ts, product]):\n",
    "#             pos = ts.GetConformer().GetAtomPosition(i)\n",
    "#             np.asarray([pos.x, pos.y, pos.z])\n",
    "#             coordinates[bx, i, :] = np.asarray([pos.x, pos.y, pos.z])\n",
    "\n",
    "            # Node features\n",
    "            e_ix = elements.index(conformers[0]['symbols'][i])\n",
    "            V[bx, i, e_ix] = 1.\n",
    "            V[bx, i, num_elements] = reactant.conformers[0]['isotopes'][i] / 10.  # careful with isotope behavior\n",
    "\n",
    "    batch_dict = {\n",
    "        \"nodes\": tf.constant(V),\n",
    "        \"edges\": tf.constant(E),\n",
    "        \"sizes\": tf.constant(sizes),\n",
    "        \"coordinates\": tf.constant(coordinates)\n",
    "    }\n",
    "    return batch_dict"
   ]
  },
  {
   "cell_type": "code",
   "execution_count": null,
   "metadata": {},
   "outputs": [],
   "source": []
  }
 ],
 "metadata": {
  "kernelspec": {
   "display_name": "Python 3",
   "language": "python",
   "name": "python3"
  },
  "language_info": {
   "codemirror_mode": {
    "name": "ipython",
    "version": 3
   },
   "file_extension": ".py",
   "mimetype": "text/x-python",
   "name": "python",
   "nbconvert_exporter": "python",
   "pygments_lexer": "ipython3",
   "version": "3.7.7"
  }
 },
 "nbformat": 4,
 "nbformat_minor": 2
}

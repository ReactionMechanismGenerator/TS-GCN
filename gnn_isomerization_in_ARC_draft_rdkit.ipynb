{
 "cells": [
  {
   "cell_type": "code",
   "execution_count": 1,
   "metadata": {},
   "outputs": [],
   "source": [
    "import copy\n",
    "\n",
    "from rmgpy.molecule.converter import to_rdkit_mol\n",
    "from rmgpy.molecule.molecule import *\n",
    "from rmgpy.species import Species\n",
    "from rdkit import Chem\n",
    "from rdkit.Chem.rdchem import ChiralType\n",
    "from rdkit.Chem import AllChem\n",
    "from typing import List, Tuple, Union\n",
    "\n",
    "from arc.species import ARCSpecies\n",
    "from arc.reaction import ARCReaction\n",
    "from arc.species.converter import (check_isomorphism,\n",
    "                                   molecules_from_xyz,\n",
    "                                   str_to_xyz,\n",
    "                                   xyz_to_str,\n",
    "                                   xyz_to_x_y_z,\n",
    "                                   xyz_to_xyz_file_format,\n",
    "                                   xyz_to_dmat,\n",
    "                                   xyz_to_coords_list,\n",
    "                                  )\n",
    "from IPython.display import display\n",
    "import arc\n",
    "import matplotlib.pyplot as plt\n",
    "%matplotlib notebook\n",
    "%matplotlib inline"
   ]
  },
  {
   "cell_type": "code",
   "execution_count": 2,
   "metadata": {},
   "outputs": [],
   "source": [
    "import torch\n",
    "import torch_geometric as tg\n",
    "from torch_geometric.data import DataLoader"
   ]
  },
  {
   "cell_type": "markdown",
   "metadata": {},
   "source": [
    "### Create some test reactions"
   ]
  },
  {
   "cell_type": "markdown",
   "metadata": {},
   "source": [
    "### Create reactant"
   ]
  },
  {
   "cell_type": "code",
   "execution_count": 3,
   "metadata": {},
   "outputs": [
    {
     "data": {
      "text/plain": [
       "<arc.species.species.ARCSpecies at 0x7fced548e750>"
      ]
     },
     "execution_count": 3,
     "metadata": {},
     "output_type": "execute_result"
    }
   ],
   "source": [
    "reactant = ARCSpecies(label='reactant', smiles='C[C][N]O[N][N]', multiplicity=1, charge=0)\n",
    "# assume that ARC has already found the optimal geometry via QM calculation\n",
    "reactant.final_xyz = str_to_xyz(\"\"\"C  -1.3087    0.0068    0.0318\n",
    "C  0.1715   -0.0344    0.0210\n",
    "N  0.9054   -0.9001    0.6395\n",
    "O  2.1683   -0.5483    0.3437\n",
    "N  2.1499    0.5449   -0.4631\n",
    "N  0.9613    0.8655   -0.6660\n",
    "H  -1.6558    0.9505    0.4530\n",
    "H  -1.6934   -0.0680   -0.9854\n",
    "H  -1.6986   -0.8169    0.6255\"\"\")\n",
    "\n",
    "reactant"
   ]
  },
  {
   "cell_type": "code",
   "execution_count": 4,
   "metadata": {
    "scrolled": true
   },
   "outputs": [
    {
     "name": "stdout",
     "output_type": "stream",
     "text": [
      "9\n",
      "\n",
      "C      -1.30870000    0.00680000    0.03180000\n",
      "C       0.17150000   -0.03440000    0.02100000\n",
      "N       0.90540000   -0.90010000    0.63950000\n",
      "O       2.16830000   -0.54830000    0.34370000\n",
      "N       2.14990000    0.54490000   -0.46310000\n",
      "N       0.96130000    0.86550000   -0.66600000\n",
      "H      -1.65580000    0.95050000    0.45300000\n",
      "H      -1.69340000   -0.06800000   -0.98540000\n",
      "H      -1.69860000   -0.81690000    0.62550000\n",
      "\n"
     ]
    }
   ],
   "source": [
    "print(xyz_to_xyz_file_format(reactant.final_xyz))"
   ]
  },
  {
   "cell_type": "code",
   "execution_count": 5,
   "metadata": {
    "scrolled": true
   },
   "outputs": [
    {
     "data": {
      "text/plain": [
       "[<Atom 'C'>,\n",
       " <Atom 'C..'>,\n",
       " <Atom 'N.'>,\n",
       " <Atom 'O'>,\n",
       " <Atom 'N.'>,\n",
       " <Atom 'N..'>,\n",
       " <Atom 'H'>,\n",
       " <Atom 'H'>,\n",
       " <Atom 'H'>]"
      ]
     },
     "execution_count": 5,
     "metadata": {},
     "output_type": "execute_result"
    }
   ],
   "source": [
    "# same order as xyz above\n",
    "reactant.mol.atoms"
   ]
  },
  {
   "cell_type": "code",
   "execution_count": 6,
   "metadata": {
    "scrolled": true
   },
   "outputs": [
    {
     "data": {
      "image/png": "[encoded data removed]",
      "text/plain": [
       "<rdkit.Chem.rdchem.Mol at 0x7fced54d9ee0>"
      ]
     },
     "execution_count": 6,
     "metadata": {},
     "output_type": "execute_result"
    }
   ],
   "source": [
    "# convert the RMG Molecule object to an rdkit object\n",
    "rdkit_reactant = to_rdkit_mol(reactant.mol, remove_h=False, return_mapping=False, sanitize=True)\n",
    "rdkit_reactant"
   ]
  },
  {
   "cell_type": "code",
   "execution_count": 7,
   "metadata": {
    "scrolled": true
   },
   "outputs": [
    {
     "data": {
      "text/plain": [
       "['O', 'N', 'N', 'N', 'C', 'C', 'H', 'H', 'H']"
      ]
     },
     "execution_count": 7,
     "metadata": {},
     "output_type": "execute_result"
    }
   ],
   "source": [
    "# different order as xyz above because RMG-Py's to_rdkit_mol sorts the atoms\n",
    "[rdkit_reactant.GetAtomWithIdx(i).GetSymbol() for i in range(rdkit_reactant.GetNumAtoms())]"
   ]
  },
  {
   "cell_type": "code",
   "execution_count": 8,
   "metadata": {},
   "outputs": [
    {
     "name": "stdout",
     "output_type": "stream",
     "text": [
      "0\n",
      "0\n",
      "1\n"
     ]
    }
   ],
   "source": [
    "# must create conformers for rdkit to get 3D distance matrix\n",
    "print(rdkit_reactant.GetNumConformers())\n",
    "print(AllChem.EmbedMolecule(rdkit_reactant, maxAttempts=5))\n",
    "print(rdkit_reactant.GetNumConformers())"
   ]
  },
  {
   "cell_type": "code",
   "execution_count": 9,
   "metadata": {},
   "outputs": [
    {
     "data": {
      "text/plain": [
       "['O', 'N', 'N', 'N', 'C', 'C', 'H', 'H', 'H']"
      ]
     },
     "execution_count": 9,
     "metadata": {},
     "output_type": "execute_result"
    }
   ],
   "source": [
    "# conformer does not change order\n",
    "[rdkit_reactant.GetAtomWithIdx(i).GetSymbol() for i in range(rdkit_reactant.GetNumAtoms())]"
   ]
  },
  {
   "cell_type": "markdown",
   "metadata": {},
   "source": [
    "### Create product"
   ]
  },
  {
   "cell_type": "code",
   "execution_count": 10,
   "metadata": {},
   "outputs": [],
   "source": [
    "product = ARCSpecies(label='product', smiles='[N-]=[N+]=C(N=O)C', multiplicity=1, charge=0)\n",
    "# accepts an ARC xyz dictionary\n",
    "product.final_xyz = str_to_xyz(\"\"\"C  -1.0108   -0.0114   -0.0610  \n",
    "C  0.4780    0.0191    0.0139    \n",
    "N  1.2974   -0.9930    0.4693    \n",
    "O  0.6928   -1.9845    0.8337    \n",
    "N  1.7456    1.9701   -0.6976    \n",
    "N  1.1642    1.0763   -0.3716    \n",
    "H  -1.4020    0.9134   -0.4821  \n",
    "H  -1.3327   -0.8499   -0.6803   \n",
    "H  -1.4329   -0.1554    0.9349\"\"\")"
   ]
  },
  {
   "cell_type": "code",
   "execution_count": 11,
   "metadata": {
    "scrolled": true
   },
   "outputs": [
    {
     "name": "stdout",
     "output_type": "stream",
     "text": [
      "9\n",
      "\n",
      "C      -1.01080000   -0.01140000   -0.06100000\n",
      "C       0.47800000    0.01910000    0.01390000\n",
      "N       1.29740000   -0.99300000    0.46930000\n",
      "O       0.69280000   -1.98450000    0.83370000\n",
      "N       1.74560000    1.97010000   -0.69760000\n",
      "N       1.16420000    1.07630000   -0.37160000\n",
      "H      -1.40200000    0.91340000   -0.48210000\n",
      "H      -1.33270000   -0.84990000   -0.68030000\n",
      "H      -1.43290000   -0.15540000    0.93490000\n",
      "\n"
     ]
    }
   ],
   "source": [
    "print(xyz_to_xyz_file_format(product.final_xyz))"
   ]
  },
  {
   "cell_type": "code",
   "execution_count": 12,
   "metadata": {
    "scrolled": true
   },
   "outputs": [
    {
     "data": {
      "text/plain": [
       "[<Atom 'N-'>,\n",
       " <Atom 'N+'>,\n",
       " <Atom 'C'>,\n",
       " <Atom 'N'>,\n",
       " <Atom 'O'>,\n",
       " <Atom 'C'>,\n",
       " <Atom 'H'>,\n",
       " <Atom 'H'>,\n",
       " <Atom 'H'>]"
      ]
     },
     "execution_count": 12,
     "metadata": {},
     "output_type": "execute_result"
    }
   ],
   "source": [
    "# different order than xyz..maybe related to smiles string\n",
    "product.mol.atoms"
   ]
  },
  {
   "cell_type": "code",
   "execution_count": 13,
   "metadata": {
    "scrolled": true
   },
   "outputs": [
    {
     "data": {
      "image/png": "[encoded data removed]",
      "text/plain": [
       "<rdkit.Chem.rdchem.Mol at 0x7fced54dcb20>"
      ]
     },
     "execution_count": 13,
     "metadata": {},
     "output_type": "execute_result"
    }
   ],
   "source": [
    "rdkit_product = to_rdkit_mol(product.mol, remove_h=False, return_mapping=False, sanitize=True)\n",
    "rdkit_product"
   ]
  },
  {
   "cell_type": "code",
   "execution_count": 14,
   "metadata": {},
   "outputs": [
    {
     "data": {
      "text/plain": [
       "['O', 'N', 'N', 'N', 'C', 'C', 'H', 'H', 'H']"
      ]
     },
     "execution_count": 14,
     "metadata": {},
     "output_type": "execute_result"
    }
   ],
   "source": [
    "# different order than xyz but same order as \n",
    "[rdkit_product.GetAtomWithIdx(i).GetSymbol() for i in range(rdkit_reactant.GetNumAtoms())]"
   ]
  },
  {
   "cell_type": "code",
   "execution_count": 15,
   "metadata": {},
   "outputs": [
    {
     "name": "stdout",
     "output_type": "stream",
     "text": [
      "0\n",
      "0\n",
      "1\n"
     ]
    }
   ],
   "source": [
    "# must create conformers for rdkit to get 3D distance matrix\n",
    "print(rdkit_product.GetNumConformers())\n",
    "print(AllChem.EmbedMolecule(rdkit_product, maxAttempts=10))\n",
    "print(rdkit_product.GetNumConformers())"
   ]
  },
  {
   "cell_type": "code",
   "execution_count": 16,
   "metadata": {
    "scrolled": true
   },
   "outputs": [
    {
     "data": {
      "text/plain": [
       "['O', 'N', 'N', 'N', 'C', 'C', 'H', 'H', 'H']"
      ]
     },
     "execution_count": 16,
     "metadata": {},
     "output_type": "execute_result"
    }
   ],
   "source": [
    "# same order as xyz above\n",
    "[rdkit_product.GetAtomWithIdx(i).GetSymbol() for i in range(rdkit_reactant.GetNumAtoms())]"
   ]
  },
  {
   "cell_type": "code",
   "execution_count": null,
   "metadata": {},
   "outputs": [],
   "source": []
  },
  {
   "cell_type": "markdown",
   "metadata": {},
   "source": [
    "### Use this reactant and product to create some replicate test reactions"
   ]
  },
  {
   "cell_type": "code",
   "execution_count": 17,
   "metadata": {},
   "outputs": [],
   "source": [
    "rxn = ARCReaction(label='reactant <=> product')"
   ]
  },
  {
   "cell_type": "code",
   "execution_count": 18,
   "metadata": {},
   "outputs": [],
   "source": [
    "rxn.r_species = [reactant]\n",
    "rxn.p_species = [product]"
   ]
  },
  {
   "cell_type": "code",
   "execution_count": 19,
   "metadata": {},
   "outputs": [],
   "source": [
    "arc_reactions = [rxn]*20"
   ]
  },
  {
   "cell_type": "code",
   "execution_count": null,
   "metadata": {},
   "outputs": [],
   "source": []
  },
  {
   "cell_type": "markdown",
   "metadata": {},
   "source": [
    "### generate features\n",
    "- put this in `ts_gen_v2` as a function that can be imported by ARC\n",
    "- **or put this as a method in the `gnn_isomerization` TS adapter in ARC**"
   ]
  },
  {
   "cell_type": "code",
   "execution_count": 20,
   "metadata": {},
   "outputs": [],
   "source": [
    "from arc.common import arc_path\n",
    "import os\n",
    "import yaml\n",
    "\n",
    "import sys\n",
    "# define path to ts_gen_v2, which should be at the same level as ARC directory\n",
    "ts_gen_v2_path = os.path.join(os.path.dirname(arc_path), 'ts_gen_v2')\n",
    "sys.path.append(ts_gen_v2_path)\n",
    "\n",
    "from features.featurization import atom_features\n",
    "\n",
    "def ARC_featurization(arc_reaction):\n",
    "    \"\"\"\n",
    "    This function creates features for the atom nodes and bond edges for one ARCReaction object.\n",
    "    ARC obtains optimized geometries for the reactants and products in an isomerization reaction.\n",
    "     \n",
    "    Args:\n",
    "        arc_reaction (ARCReaction): One instance of an ARCReaction.\n",
    "    \n",
    "    Returns:\n",
    "        data (tg.data.Data()): PyTorch Geometric data objects.\n",
    "        ts_xyz_dict (dict): Standard ARC xyz dictionary. \n",
    "                            The value for the'coords' key will is empty and will be replaced with the TS guess from the GNN.\n",
    "    \"\"\"\n",
    "    \n",
    "    # isomerization reactions have only 1 reactant and 1 product\n",
    "    reactant = reaction.r_species[0]\n",
    "    product = reaction.p_species[0]\n",
    "    \n",
    "#     # could get info from ARC, like distance matrix and number atoms. harder to get bond order or aromaticity..\n",
    "#     D_r = xyz_to_dmat(reactant.get_xyz())\n",
    "#     D_p = xyz_to_dmat(product.get_xyz())\n",
    "#     n_atoms = len(reactant.mol.atoms)  # number of atoms\n",
    "  \n",
    "    rdkit_reactant = to_rdkit_mol(reactant.mol, remove_h=False, return_mapping=False, sanitize=True)\n",
    "    rdkit_product = to_rdkit_mol(product.mol, remove_h=False, return_mapping=False, sanitize=True)\n",
    "    # must embed before generating 3D distance matrix\n",
    "    AllChem.EmbedMolecule(rdkit_reactant, maxAttempts=10)\n",
    "    AllChem.EmbedMolecule(rdkit_product, maxAttempts=10)\n",
    "    D_r = Chem.Get3DDistanceMatrix(rdkit_reactant)\n",
    "    D_p = Chem.Get3DDistanceMatrix(rdkit_product)\n",
    "    \n",
    "    f_atoms = []      # atom (node) features\n",
    "    f_bonds = []      # bond (edge) features\n",
    "    edge_index = []   # list of tuples indicating presence of bonds\n",
    "    n_atoms = rdkit_reactant.GetNumAtoms()\n",
    "    \n",
    "    for a1 in range(n_atoms):\n",
    "        # Node features\n",
    "        f_atoms.append(atom_features(rdkit_reactant.GetAtomWithIdx(a1)))\n",
    "\n",
    "        # Edge features\n",
    "        for a2 in range(a1 + 1, n_atoms):\n",
    "            # fully connected graph\n",
    "            edge_index.extend([(a1, a2), (a2, a1)])\n",
    "\n",
    "            # for now, naively include both reac and prod\n",
    "            b1_feats = [D_r[a1][a2], D_p[a1][a2]]\n",
    "            b2_feats = [D_r[a2][a1], D_p[a2][a1]]\n",
    "\n",
    "            # r_bond = r_mol.GetBondBetweenAtoms(a1, a2)\n",
    "            # b1_feats.extend(bond_features(r_bond))\n",
    "            # b2_feats.extend(bond_features(r_bond))\n",
    "            #\n",
    "            # p_bond = p_mol.GetBondBetweenAtoms(a1, a2)\n",
    "            # b1_feats.extend(bond_features(p_bond))\n",
    "            # b2_feats.extend(bond_features(p_bond))\n",
    "\n",
    "            f_bonds.append(b1_feats)\n",
    "            f_bonds.append(b2_feats)\n",
    "        \n",
    "    # assemble the features into a graph\n",
    "    data = tg.data.Data()\n",
    "    data.x = torch.tensor(f_atoms, dtype=torch.float)\n",
    "    data.edge_index = torch.tensor(edge_index, dtype=torch.long).t().contiguous()\n",
    "    data.edge_attr = torch.tensor(f_bonds, dtype=torch.float)\n",
    "\n",
    "    ts_xyz_dict = copy.deepcopy(reactant.get_xyz())\n",
    "    ts_xyz_dict['coords'] = None\n",
    "    return data, ts_xyz_dict"
   ]
  },
  {
   "cell_type": "code",
   "execution_count": 21,
   "metadata": {},
   "outputs": [
    {
     "data": {
      "text/plain": [
       "{'symbols': ('C', 'C', 'N', 'O', 'N', 'N', 'H', 'H', 'H'),\n",
       " 'isotopes': (12, 12, 14, 16, 14, 14, 1, 1, 1),\n",
       " 'coords': ((-1.3087, 0.0068, 0.0318),\n",
       "  (0.1715, -0.0344, 0.021),\n",
       "  (0.9054, -0.9001, 0.6395),\n",
       "  (2.1683, -0.5483, 0.3437),\n",
       "  (2.1499, 0.5449, -0.4631),\n",
       "  (0.9613, 0.8655, -0.666),\n",
       "  (-1.6558, 0.9505, 0.453),\n",
       "  (-1.6934, -0.068, -0.9854),\n",
       "  (-1.6986, -0.8169, 0.6255))}"
      ]
     },
     "execution_count": 21,
     "metadata": {},
     "output_type": "execute_result"
    }
   ],
   "source": [
    "reactant.get_xyz()"
   ]
  },
  {
   "cell_type": "markdown",
   "metadata": {},
   "source": [
    "### generate TS guess"
   ]
  },
  {
   "cell_type": "code",
   "execution_count": 22,
   "metadata": {},
   "outputs": [],
   "source": [
    "from model.G2C import G2C"
   ]
  },
  {
   "cell_type": "code",
   "execution_count": 23,
   "metadata": {},
   "outputs": [],
   "source": [
    "# set device\n",
    "device = torch.device('cuda' if torch.cuda.is_available() else 'cpu')"
   ]
  },
  {
   "cell_type": "markdown",
   "metadata": {},
   "source": [
    "Set paths to the optimal model weights. Note that these weights are for a model trained only on the training set\n",
    "- we should retrain on the entire dataset with the optimal hyperparameters \n",
    "- we should retrain using the more advanced featurizaiton"
   ]
  },
  {
   "cell_type": "code",
   "execution_count": 24,
   "metadata": {
    "scrolled": true
   },
   "outputs": [],
   "source": [
    "# Set paths to the optimal model weights. \n",
    "# fix the typo in the name: paramAters to paramEters\n",
    "yaml_file_name = os.path.join(ts_gen_v2_path, 'best_model', 'model_paramaters.yml')\n",
    "state_dict = os.path.join(ts_gen_v2_path, 'best_model', 'epoch_95_state_dict')"
   ]
  },
  {
   "cell_type": "code",
   "execution_count": 25,
   "metadata": {
    "scrolled": true
   },
   "outputs": [
    {
     "name": "stdout",
     "output_type": "stream",
     "text": [
      "{'depth': 3, 'edge_dim': 2, 'hidden_dim': 256, 'n_layers': 3, 'node_dim': 7}\n"
     ]
    },
    {
     "data": {
      "text/plain": [
       "G2C(\n",
       "  (gnn): GNN(\n",
       "    (node_init): MLP(\n",
       "      (layers): ModuleList(\n",
       "        (0): Linear(in_features=7, out_features=256, bias=True)\n",
       "        (1): ReLU()\n",
       "        (2): Linear(in_features=256, out_features=256, bias=True)\n",
       "        (3): ReLU()\n",
       "        (4): Linear(in_features=256, out_features=256, bias=True)\n",
       "        (5): ReLU()\n",
       "        (6): Linear(in_features=256, out_features=256, bias=True)\n",
       "      )\n",
       "    )\n",
       "    (edge_init): MLP(\n",
       "      (layers): ModuleList(\n",
       "        (0): Linear(in_features=2, out_features=256, bias=True)\n",
       "        (1): ReLU()\n",
       "        (2): Linear(in_features=256, out_features=256, bias=True)\n",
       "        (3): ReLU()\n",
       "        (4): Linear(in_features=256, out_features=256, bias=True)\n",
       "        (5): ReLU()\n",
       "        (6): Linear(in_features=256, out_features=256, bias=True)\n",
       "      )\n",
       "    )\n",
       "    (update): MetaLayer(\n",
       "      (edge_model): EdgeModel(\n",
       "        (edge): Linear(in_features=256, out_features=256, bias=True)\n",
       "        (node_in): Linear(in_features=256, out_features=256, bias=False)\n",
       "        (node_out): Linear(in_features=256, out_features=256, bias=False)\n",
       "        (mlp): MLP(\n",
       "          (layers): ModuleList(\n",
       "            (0): Linear(in_features=256, out_features=256, bias=True)\n",
       "            (1): ReLU()\n",
       "            (2): Linear(in_features=256, out_features=256, bias=True)\n",
       "            (3): ReLU()\n",
       "            (4): Linear(in_features=256, out_features=256, bias=True)\n",
       "            (5): ReLU()\n",
       "            (6): Linear(in_features=256, out_features=256, bias=True)\n",
       "          )\n",
       "        )\n",
       "      )\n",
       "      (node_model): NodeModel(\n",
       "        (node_mlp_1): MLP(\n",
       "          (layers): ModuleList(\n",
       "            (0): Linear(in_features=256, out_features=256, bias=True)\n",
       "            (1): ReLU()\n",
       "            (2): Linear(in_features=256, out_features=256, bias=True)\n",
       "            (3): ReLU()\n",
       "            (4): Linear(in_features=256, out_features=256, bias=True)\n",
       "            (5): ReLU()\n",
       "            (6): Linear(in_features=256, out_features=256, bias=True)\n",
       "          )\n",
       "        )\n",
       "        (node_mlp_2): MLP(\n",
       "          (layers): ModuleList(\n",
       "            (0): Linear(in_features=256, out_features=256, bias=True)\n",
       "            (1): ReLU()\n",
       "            (2): Linear(in_features=256, out_features=256, bias=True)\n",
       "            (3): ReLU()\n",
       "            (4): Linear(in_features=256, out_features=256, bias=True)\n",
       "            (5): ReLU()\n",
       "            (6): Linear(in_features=256, out_features=256, bias=True)\n",
       "          )\n",
       "        )\n",
       "      )\n",
       "    )\n",
       "  )\n",
       "  (edge_mlp): MLP(\n",
       "    (layers): ModuleList(\n",
       "      (0): Linear(in_features=256, out_features=256, bias=True)\n",
       "      (1): ReLU()\n",
       "      (2): Linear(in_features=256, out_features=256, bias=True)\n",
       "      (3): ReLU()\n",
       "      (4): Linear(in_features=256, out_features=256, bias=True)\n",
       "      (5): ReLU()\n",
       "      (6): Linear(in_features=256, out_features=256, bias=True)\n",
       "    )\n",
       "  )\n",
       "  (pred): Linear(in_features=256, out_features=2, bias=True)\n",
       "  (act): Softplus(beta=1, threshold=20)\n",
       ")"
      ]
     },
     "execution_count": 25,
     "metadata": {},
     "output_type": "execute_result"
    }
   ],
   "source": [
    "# create the network with the best architecture from hyperopt and load the corresponding best weights\n",
    "with open(yaml_file_name, 'r') as f:\n",
    "    content = yaml.load(stream=f, Loader=yaml.FullLoader)\n",
    "print(content)\n",
    "\n",
    "model = G2C(**content).to(device)\n",
    "model.load_state_dict(torch.load(state_dict, map_location=device))\n",
    "model.eval()"
   ]
  },
  {
   "cell_type": "code",
   "execution_count": 26,
   "metadata": {},
   "outputs": [],
   "source": [
    "# create data loader\n",
    "data_list = list()           # list of tg.data.Data objects\n",
    "ts_xyz_dict_list = list()    # list of standard ARC xyz dictionaries for the TS\n",
    "for reaction in arc_reactions:\n",
    "    data, ts_xyz_dict = ARC_featurization(reaction)\n",
    "    data_list.append(data)\n",
    "    ts_xyz_dict_list.append(ts_xyz_dict)\n",
    "    \n",
    "loader = DataLoader(data_list, batch_size=16)"
   ]
  },
  {
   "cell_type": "code",
   "execution_count": 27,
   "metadata": {
    "scrolled": false
   },
   "outputs": [
    {
     "data": {
      "text/plain": [
       "[{'symbols': ('C', 'C', 'N', 'O', 'N', 'N', 'H', 'H', 'H'),\n",
       "  'isotopes': (12, 12, 14, 16, 14, 14, 1, 1, 1),\n",
       "  'coords': ((1.445640206336975, 1.533030390739441, 0.6609643697738647),\n",
       "   (0.8248540759086609, 1.423476219177246, -0.22542211413383484),\n",
       "   (2.034879207611084, -0.4023151695728302, 0.3003236949443817),\n",
       "   (3.1769511699676514, -0.6873146891593933, 0.1879155933856964),\n",
       "   (-0.7281666994094849, -0.4678089916706085, -0.2276933193206787),\n",
       "   (0.6020224690437317, 0.013283596374094486, -0.4085104465484619),\n",
       "   (-1.2805835008621216, 0.39967772364616394, -0.24585989117622375),\n",
       "   (-0.7433356642723083, -1.1508727073669434, -1.048314094543457),\n",
       "   (-1.1104726791381836, -1.063165545463562, 0.5326233506202698))},\n",
       " {'symbols': ('C', 'C', 'N', 'O', 'N', 'N', 'H', 'H', 'H'),\n",
       "  'isotopes': (12, 12, 14, 16, 14, 14, 1, 1, 1),\n",
       "  'coords': ((-1.1207770109176636, -2.09028697013855, -0.65211421251297),\n",
       "   (-0.38098224997520447, -1.7028954029083252, 0.31749793887138367),\n",
       "   (-2.142958641052246, -0.4838709831237793, 0.13101056218147278),\n",
       "   (-3.0792319774627686, -0.29550567269325256, 0.7647114396095276),\n",
       "   (0.6365150809288025, 0.33592358231544495, -0.2617269456386566),\n",
       "   (-0.6012295484542847, -0.31658318638801575, -0.032291755080223083),\n",
       "   (0.7397766709327698, 0.5576556324958801, -1.3132449388504028),\n",
       "   (1.4403471946716309, -0.1940845251083374, 0.1739150732755661),\n",
       "   (0.549690306186676, 1.1392065286636353, 0.26525914669036865))},\n",
       " {'symbols': ('C', 'C', 'N', 'O', 'N', 'N', 'H', 'H', 'H'),\n",
       "  'isotopes': (12, 12, 14, 16, 14, 14, 1, 1, 1),\n",
       "  'coords': ((2.1653623580932617, 1.473539113998413, -0.20429490506649017),\n",
       "   (1.523979902267456, 0.8956406712532043, 0.3853453993797302),\n",
       "   (2.340541124343872, -0.5573974847793579, -0.5383338928222656),\n",
       "   (3.2555997371673584, -0.7160250544548035, -1.2544373273849487),\n",
       "   (-0.5013924837112427, -0.1546688675880432, -0.4660462439060211),\n",
       "   (0.798443615436554, 0.21928977966308594, -0.6163076758384705),\n",
       "   (-0.5338289141654968, -0.958969235420227, 0.038109324872493744),\n",
       "   (-1.0876574516296387, 0.23865294456481934, 0.13130630552768707),\n",
       "   (-1.1000094413757324, -0.026097435504198074, -1.3576481342315674))},\n",
       " {'symbols': ('C', 'C', 'N', 'O', 'N', 'N', 'H', 'H', 'H'),\n",
       "  'isotopes': (12, 12, 14, 16, 14, 14, 1, 1, 1),\n",
       "  'coords': ((-1.5790823698043823, -1.5884742736816406, 0.5931990146636963),\n",
       "   (-0.7968013286590576, -1.2882384061813354, -0.4546453356742859),\n",
       "   (-1.0441807508468628, 0.43516698479652405, 0.6983217000961304),\n",
       "   (-1.8665143251419067, 1.1685343980789185, 0.7171112895011902),\n",
       "   (1.4847512245178223, -0.3730522096157074, -0.35380589962005615),\n",
       "   (0.12712305784225464, -0.5364773273468018, 0.000498719047755003),\n",
       "   (1.9757614135742188, -1.2997090816497803, -0.19949312508106232),\n",
       "   (2.001004457473755, 0.38278982043266296, 0.2254970818758011),\n",
       "   (1.4844467639923096, -0.1853213757276535, -1.3577691316604614))},\n",
       " {'symbols': ('C', 'C', 'N', 'O', 'N', 'N', 'H', 'H', 'H'),\n",
       "  'isotopes': (12, 12, 14, 16, 14, 14, 1, 1, 1),\n",
       "  'coords': ((-1.5683947801589966, 1.1674768924713135, -1.094240665435791),\n",
       "   (-1.3561197519302368, 1.0917712450027466, 0.0837450623512268),\n",
       "   (-1.7473701238632202, -0.7607738375663757, -0.6414369940757751),\n",
       "   (-2.3035387992858887, -1.6565983295440674, -0.8400351405143738),\n",
       "   (0.8748526573181152, 0.08453124761581421, -0.140463188290596),\n",
       "   (-0.4942006468772888, 0.0015184895601123571, 0.19895614683628082),\n",
       "   (1.4243535995483398, -0.8215829730033875, 0.11287347227334976),\n",
       "   (1.2177441120147705, 0.7361056208610535, 0.600951075553894),\n",
       "   (1.0800518989562988, 0.2192642092704773, -1.125545620918274))},\n",
       " {'symbols': ('C', 'C', 'N', 'O', 'N', 'N', 'H', 'H', 'H'),\n",
       "  'isotopes': (12, 12, 14, 16, 14, 14, 1, 1, 1),\n",
       "  'coords': ((1.3913789987564087, -0.7221486568450928, -0.6379108428955078),\n",
       "   (0.34701958298683167, -0.6856537461280823, -0.40947508811950684),\n",
       "   (1.2483726739883423, 1.158180594444275, 0.11212135851383209),\n",
       "   (2.04592227935791, 1.910557508468628, -0.2717880308628082),\n",
       "   (-1.6171895265579224, 0.6968711614608765, 0.03674392029643059),\n",
       "   (-0.3001070022583008, 0.4463483989238739, -0.30113089084625244),\n",
       "   (-2.1876745223999023, 1.2517472505569458, -0.7009502053260803),\n",
       "   (-2.0618929862976074, -0.22601820528507233, 0.17494508624076843),\n",
       "   (-1.7469061613082886, 1.2842824459075928, 0.9083852767944336))},\n",
       " {'symbols': ('C', 'C', 'N', 'O', 'N', 'N', 'H', 'H', 'H'),\n",
       "  'isotopes': (12, 12, 14, 16, 14, 14, 1, 1, 1),\n",
       "  'coords': ((1.8475819826126099, 0.503800094127655, 1.62833571434021),\n",
       "   (0.8518069386482239, 0.2257956862449646, 1.6711920499801636),\n",
       "   (2.041444778442383, -0.811464786529541, 0.12090163677930832),\n",
       "   (2.5952489376068115, -1.8753241300582886, 0.05188436806201935),\n",
       "   (-0.7222311496734619, -0.052693676203489304, -0.10547433793544769),\n",
       "   (0.5952476859092712, 0.15798155963420868, 0.3065711557865143),\n",
       "   (-1.0850826501846313, -0.9747219681739807, 0.1812894344329834),\n",
       "   (-1.3516730070114136, 0.6367504596710205, 0.3282988965511322),\n",
       "   (-0.7800459861755371, 0.2791077494621277, -1.1284815073013306))},\n",
       " {'symbols': ('C', 'C', 'N', 'O', 'N', 'N', 'H', 'H', 'H'),\n",
       "  'isotopes': (12, 12, 14, 16, 14, 14, 1, 1, 1),\n",
       "  'coords': ((1.7867567539215088, 1.3462709188461304, 1.1242692470550537),\n",
       "   (1.050276279449463, 1.2471822500228882, 0.18244947493076324),\n",
       "   (1.931602954864502, -0.6724954843521118, 0.6854363083839417),\n",
       "   (3.0141923427581787, -0.9664620757102966, 0.07847006618976593),\n",
       "   (-0.7655179500579834, -0.3249607980251312, -0.30903512239456177),\n",
       "   (0.44618895649909973, -0.0039013992063701153, 0.2943814694881439),\n",
       "   (-1.1873527765274048, 0.6011878848075867, -0.6285359263420105),\n",
       "   (-0.7912724018096924, -1.167454481124878, -0.9034864902496338),\n",
       "   (-1.4159568548202515, -0.7680274844169617, 0.3859260380268097))},\n",
       " {'symbols': ('C', 'C', 'N', 'O', 'N', 'N', 'H', 'H', 'H'),\n",
       "  'isotopes': (12, 12, 14, 16, 14, 14, 1, 1, 1),\n",
       "  'coords': ((-1.5318145751953125, 1.845479965209961, -0.01654551737010479),\n",
       "   (-0.725862979888916, 1.3797718286514282, 0.5826662182807922),\n",
       "   (-1.5382874011993408, 0.2514660060405731, -1.1676607131958008),\n",
       "   (-2.6700124740600586, -0.3353147506713867, -1.4117555618286133),\n",
       "   (0.9354081749916077, -0.2971380650997162, 0.08270637691020966),\n",
       "   (-0.4166683554649353, 0.1568840593099594, 0.23869143426418304),\n",
       "   (0.9054476022720337, -1.2332849502563477, -0.25268810987472534),\n",
       "   (1.5595673322677612, 0.2283955067396164, -0.5118823051452637),\n",
       "   (1.3569914102554321, -0.3732636868953705, 1.0529773235321045))},\n",
       " {'symbols': ('C', 'C', 'N', 'O', 'N', 'N', 'H', 'H', 'H'),\n",
       "  'isotopes': (12, 12, 14, 16, 14, 14, 1, 1, 1),\n",
       "  'coords': ((-1.543804407119751, 1.1899864673614502, -0.5744006633758545),\n",
       "   (-0.5553754568099976, 1.2398204803466797, 0.06336504966020584),\n",
       "   (-0.9531291723251343, -0.6086857914924622, -1.0525192022323608),\n",
       "   (-1.7023441791534424, -1.531859040260315, -1.2233633995056152),\n",
       "   (1.6210066080093384, 0.35047081112861633, -0.04678421840071678),\n",
       "   (0.18545177578926086, 0.12048579752445221, 0.05199749022722244),\n",
       "   (1.94664466381073, 0.47793450951576233, 0.978195309638977),\n",
       "   (2.115691900253296, -0.39679697155952454, -0.4720629155635834),\n",
       "   (1.8777344226837158, 1.1532925367355347, -0.5915882587432861))},\n",
       " {'symbols': ('C', 'C', 'N', 'O', 'N', 'N', 'H', 'H', 'H'),\n",
       "  'isotopes': (12, 12, 14, 16, 14, 14, 1, 1, 1),\n",
       "  'coords': ((-1.4078724384307861, -0.8040345907211304, -1.3961119651794434),\n",
       "   (-0.48789986968040466, -1.2171134948730469, -0.7387154698371887),\n",
       "   (-1.5690425634384155, 0.45721763372421265, 0.1748117357492447),\n",
       "   (-2.4219436645507812, 1.3165076971054077, -0.03266936168074608),\n",
       "   (1.2961697578430176, 0.3436998426914215, -0.2371538132429123),\n",
       "   (-0.024138322100043297, -0.1908947229385376, 0.05933111906051636),\n",
       "   (1.2968244552612305, 1.3904489278793335, -0.38426852226257324),\n",
       "   (1.9174244403839111, 0.13208499550819397, 0.6030524373054504),\n",
       "   (1.6607227325439453, -0.18285095691680908, -1.056949257850647))},\n",
       " {'symbols': ('C', 'C', 'N', 'O', 'N', 'N', 'H', 'H', 'H'),\n",
       "  'isotopes': (12, 12, 14, 16, 14, 14, 1, 1, 1),\n",
       "  'coords': ((-1.4456721544265747, 1.770731806755066, -0.723324716091156),\n",
       "   (-0.7884448766708374, 1.228440523147583, 0.1463964879512787),\n",
       "   (-1.838175892829895, -0.19312238693237305, -1.0145272016525269),\n",
       "   (-2.6898353099823, -0.47645074129104614, -1.786220669746399),\n",
       "   (1.033789873123169, -0.014644068665802479, -0.8299906253814697),\n",
       "   (-0.2839110195636749, 0.11925347149372101, -0.31545087695121765),\n",
       "   (1.0759979486465454, -0.23958565294742584, -1.789054036140442),\n",
       "   (1.4517613649368286, -0.9048174619674683, -0.323341429233551),\n",
       "   (1.6171917915344238, 0.8845248818397522, -0.8043332695960999))},\n",
       " {'symbols': ('C', 'C', 'N', 'O', 'N', 'N', 'H', 'H', 'H'),\n",
       "  'isotopes': (12, 12, 14, 16, 14, 14, 1, 1, 1),\n",
       "  'coords': ((1.1469604969024658, 1.1667509078979492, 1.0615154504776),\n",
       "   (0.3283348083496094, 1.0413923263549805, 0.8398723006248474),\n",
       "   (1.5142954587936401, -0.647958517074585, 0.37901708483695984),\n",
       "   (2.2227258682250977, -1.495788812637329, 0.2145344465970993),\n",
       "   (-1.3574050664901733, -0.2874184548854828, -0.19065715372562408),\n",
       "   (-0.1200350746512413, -0.2176135778427124, 0.5428028702735901),\n",
       "   (-2.071320056915283, -0.25568687915802, 0.6167904734611511),\n",
       "   (-1.4424129724502563, -1.1150072813034058, -0.5274744033813477),\n",
       "   (-1.5155612230300903, 0.19348777830600739, -1.1510776281356812))},\n",
       " {'symbols': ('C', 'C', 'N', 'O', 'N', 'N', 'H', 'H', 'H'),\n",
       "  'isotopes': (12, 12, 14, 16, 14, 14, 1, 1, 1),\n",
       "  'coords': ((1.9006105661392212, -0.23806092143058777, -1.2726466655731201),\n",
       "   (0.9175838232040405, -0.8300915956497192, -0.9146499037742615),\n",
       "   (1.4968293905258179, 0.779457151889801, 0.3947848677635193),\n",
       "   (2.036892890930176, 1.9220092296600342, 0.39723503589630127),\n",
       "   (-1.2119940519332886, 0.2733370065689087, -0.2149023562669754),\n",
       "   (0.20765236020088196, 0.043357279151678085, -0.18297186493873596),\n",
       "   (-1.7160736322402954, -0.607485830783844, -0.10178502649068832),\n",
       "   (-1.5438752174377441, 0.7584470510482788, -1.0438791513442993),\n",
       "   (-1.5029468536376953, 0.8473962545394897, 0.5885147452354431))},\n",
       " {'symbols': ('C', 'C', 'N', 'O', 'N', 'N', 'H', 'H', 'H'),\n",
       "  'isotopes': (12, 12, 14, 16, 14, 14, 1, 1, 1),\n",
       "  'coords': ((-1.8086514472961426, 0.8034002184867859, -0.26172903180122375),\n",
       "   (-1.3638625144958496, 0.6436437368392944, -1.29710853099823),\n",
       "   (-2.134488105773926, -1.1042444705963135, -1.0926867723464966),\n",
       "   (-3.011636734008789, -1.60470449924469, -0.7835370302200317),\n",
       "   (0.5441837310791016, -0.6049109697341919, -0.4396640360355377),\n",
       "   (-0.5876479148864746, -0.4858543276786804, -1.3171221017837524),\n",
       "   (0.894248366355896, 0.34794917702674866, -0.3395945429801941),\n",
       "   (1.2327688932418823, -1.2472920417785645, -0.942982017993927),\n",
       "   (0.46668654680252075, -1.1400878429412842, 0.4494040608406067))},\n",
       " {'symbols': ('C', 'C', 'N', 'O', 'N', 'N', 'H', 'H', 'H'),\n",
       "  'isotopes': (12, 12, 14, 16, 14, 14, 1, 1, 1),\n",
       "  'coords': ((-1.6352661848068237, 0.9903855323791504, 0.09066078066825867),\n",
       "   (-0.8027217388153076, 1.0036430358886719, 0.8597511649131775),\n",
       "   (-2.0170328617095947, -0.8736788630485535, 0.47297194600105286),\n",
       "   (-3.0150504112243652, -1.3846665620803833, 0.6847991943359375),\n",
       "   (0.6979724168777466, -0.7061484456062317, -0.051861703395843506),\n",
       "   (-0.34413275122642517, -0.32033124566078186, 0.8526526689529419),\n",
       "   (1.1465387344360352, 0.0290708988904953, -0.6086898446083069),\n",
       "   (0.4637574851512909, -1.4654405117034912, -0.7100019454956055),\n",
       "   (1.476511001586914, -1.1042338609695435, 0.5621615052223206))},\n",
       " {'symbols': ('C', 'C', 'N', 'O', 'N', 'N', 'H', 'H', 'H'),\n",
       "  'isotopes': (12, 12, 14, 16, 14, 14, 1, 1, 1),\n",
       "  'coords': ((1.886135220527649, 1.1494070291519165, -0.6060550212860107),\n",
       "   (0.8372966051101685, 1.0415157079696655, -0.6983129978179932),\n",
       "   (1.7118183374404907, -0.5258340835571289, 0.36045554280281067),\n",
       "   (2.4379849433898926, -1.3068825006484985, 0.65850430727005),\n",
       "   (-1.0969938039779663, -0.15577104687690735, -0.1491272896528244),\n",
       "   (0.20914971828460693, 0.3324229121208191, 0.2651207447052002),\n",
       "   (-1.1028282642364502, -0.8790761232376099, -0.893092691898346),\n",
       "   (-1.404833436012268, -0.5902006030082703, 0.6121970415115356),\n",
       "   (-1.7721835374832153, 0.675394594669342, -0.21222944557666779))},\n",
       " {'symbols': ('C', 'C', 'N', 'O', 'N', 'N', 'H', 'H', 'H'),\n",
       "  'isotopes': (12, 12, 14, 16, 14, 14, 1, 1, 1),\n",
       "  'coords': ((-1.4753062725067139, 0.32581472396850586, -1.0290460586547852),\n",
       "   (-0.681645393371582, 0.7737879753112793, -0.3082614839076996),\n",
       "   (-0.4673849046230316, -1.3994266986846924, -0.5929045677185059),\n",
       "   (-1.1541473865509033, -2.2149291038513184, -0.245081827044487),\n",
       "   (1.6932293176651, 0.42596638202667236, 0.13302850723266602),\n",
       "   (0.45333847403526306, 0.004285575356334448, -0.41217321157455444),\n",
       "   (2.3414227962493896, -0.3403606712818146, 0.529952347278595),\n",
       "   (2.2062127590179443, 0.9344995617866516, -0.6649767160415649),\n",
       "   (1.513377070426941, 1.1266981363296509, 0.8348942399024963))},\n",
       " {'symbols': ('C', 'C', 'N', 'O', 'N', 'N', 'H', 'H', 'H'),\n",
       "  'isotopes': (12, 12, 14, 16, 14, 14, 1, 1, 1),\n",
       "  'coords': ((1.0081735849380493, -1.3339040279388428, 1.4033666849136353),\n",
       "   (0.8239292502403259, -1.7356168031692505, 0.36293378472328186),\n",
       "   (1.7725536823272705, 0.030878540128469467, 0.15736865997314453),\n",
       "   (2.5253994464874268, 0.5094398856163025, -0.2969476282596588),\n",
       "   (-0.9379700422286987, -0.03605635464191437, -0.025105535984039307),\n",
       "   (0.3289143145084381, -0.690047025680542, -0.35479944944381714),\n",
       "   (-1.320554256439209, -0.7221017479896545, -0.5511074066162109),\n",
       "   (-1.3657037019729614, -0.10819640010595322, 0.8476176261901855),\n",
       "   (-1.1677043437957764, 0.9610864520072937, -0.46943390369415283))},\n",
       " {'symbols': ('C', 'C', 'N', 'O', 'N', 'N', 'H', 'H', 'H'),\n",
       "  'isotopes': (12, 12, 14, 16, 14, 14, 1, 1, 1),\n",
       "  'coords': ((-1.107051134109497, 0.8142185211181641, -0.6689605116844177),\n",
       "   (-0.28333693742752075, 1.0480566024780273, -0.4800255298614502),\n",
       "   (-0.733216404914856, -1.1544713973999023, -0.8727369904518127),\n",
       "   (-1.442677617073059, -2.0185439586639404, -1.0694012641906738),\n",
       "   (1.5795432329177856, 0.045482564717531204, 0.3964027166366577),\n",
       "   (0.20030425488948822, -0.14434008300304413, 0.153058260679245),\n",
       "   (1.763824224472046, -0.8425955772399902, 0.754731297492981),\n",
       "   (1.6253119707107544, 0.6419540047645569, 1.2704424858093262),\n",
       "   (2.1754150390625, 0.5156775712966919, -0.3281067907810211))}]"
      ]
     },
     "execution_count": 27,
     "metadata": {},
     "output_type": "execute_result"
    }
   ],
   "source": [
    "coords_list = list()\n",
    "index = 0\n",
    "for data in loader:\n",
    "    data = data.to(device)\n",
    "    out, mask = model(data)  # out is distance matrix. mask is matrix of 1s with 0s along diagonal\n",
    "    \n",
    "    # convert distance matrix to xyz\n",
    "    ts_guess_xyz = model.low_rank_approx_power(out)\n",
    "    # print(ts_guess_xyz)\n",
    "\n",
    "    # extract xyz coordinates\n",
    "    # shape of data.coords is (batch_size, n_atoms, 3). Each batch entry holds 1 TS guess\n",
    "    for batch in data.coords:\n",
    "        coords = batch.double().cpu().detach().numpy().tolist()\n",
    "        ts_guess_coords = tuple()\n",
    "        for atom in coords:  # range(coords.shape[0]):\n",
    "            # unpack values and convert to immutable tuple\n",
    "            x, y, z = atom\n",
    "            coord = (x, y, z)\n",
    "            ts_guess_coords += (coord,)\n",
    "        ts_xyz_dict_list[index]['coords'] = ts_guess_coords\n",
    "        index += 1\n",
    "ts_xyz_dict_list"
   ]
  },
  {
   "cell_type": "code",
   "execution_count": 28,
   "metadata": {},
   "outputs": [
    {
     "name": "stdout",
     "output_type": "stream",
     "text": [
      "9\n",
      "\n",
      "C      -1.10705113    0.81421852   -0.66896051\n",
      "C      -0.28333694    1.04805660   -0.48002553\n",
      "N      -0.73321640   -1.15447140   -0.87273699\n",
      "O      -1.44267762   -2.01854396   -1.06940126\n",
      "N       1.57954323    0.04548256    0.39640272\n",
      "N       0.20030425   -0.14434008    0.15305826\n",
      "H       1.76382422   -0.84259558    0.75473130\n",
      "H       1.62531197    0.64195400    1.27044249\n",
      "H       2.17541504    0.51567757   -0.32810679\n",
      "\n"
     ]
    }
   ],
   "source": [
    "# show that we can convert the ARC xyz dictionary to a standard xyz file format\n",
    "print(xyz_to_xyz_file_format(ts_xyz_dict_list[-1]))"
   ]
  },
  {
   "cell_type": "code",
   "execution_count": null,
   "metadata": {},
   "outputs": [],
   "source": []
  },
  {
   "cell_type": "markdown",
   "metadata": {},
   "source": [
    "Try re-ordering atoms in case things are out of order\n",
    "- Useful for when users just provide SMILES string to ARC rather than specifying the xyz coordinates. But currently, this relies on RDKit sorting the atoms properly, so it doesn't not even use the `final_xyz` attribute on all ARCSpecies objects..."
   ]
  },
  {
   "cell_type": "code",
   "execution_count": 33,
   "metadata": {},
   "outputs": [],
   "source": [
    "import sys\n",
    "# define path to rmsd: https://github.com/charnley/rmsd\n",
    "rmsd_path = os.path.join(os.path.dirname(arc_path), 'rmsd/')\n",
    "sys.path.append(rmsd_path)"
   ]
  },
  {
   "cell_type": "code",
   "execution_count": 35,
   "metadata": {},
   "outputs": [],
   "source": [
    "import rmsd"
   ]
  },
  {
   "cell_type": "code",
   "execution_count": 43,
   "metadata": {},
   "outputs": [
    {
     "data": {
      "text/plain": [
       "array([[-1.3087,  0.0068,  0.0318],\n",
       "       [ 0.1715, -0.0344,  0.021 ],\n",
       "       [ 0.9054, -0.9001,  0.6395],\n",
       "       [ 2.1683, -0.5483,  0.3437],\n",
       "       [ 2.1499,  0.5449, -0.4631],\n",
       "       [ 0.9613,  0.8655, -0.666 ],\n",
       "       [-1.6558,  0.9505,  0.453 ],\n",
       "       [-1.6934, -0.068 , -0.9854],\n",
       "       [-1.6986, -0.8169,  0.6255]])"
      ]
     },
     "execution_count": 43,
     "metadata": {},
     "output_type": "execute_result"
    }
   ],
   "source": [
    "reactant_xyz = np.array(xyz_to_coords_list(reactant.get_xyz()))\n",
    "reactant_xyz "
   ]
  },
  {
   "cell_type": "code",
   "execution_count": 42,
   "metadata": {},
   "outputs": [
    {
     "data": {
      "text/plain": [
       "array([[-1.07197428, -2.35108232, -0.70988053],\n",
       "       [-0.33641434, -1.91722083, -1.19327223],\n",
       "       [-1.26220846, -0.25865832, -1.09975064],\n",
       "       [-2.1293807 ,  0.23441976, -1.29394245],\n",
       "       [ 1.00682414, -0.82009929,  0.45915321],\n",
       "       [-0.2009231 , -0.95646107, -0.09028716],\n",
       "       [ 1.15710151, -1.77451622,  0.83877051],\n",
       "       [ 1.92252541, -0.41445082,  0.08799106],\n",
       "       [ 0.72982383, -0.05545579,  1.11180568]])"
      ]
     },
     "execution_count": 42,
     "metadata": {},
     "output_type": "execute_result"
    }
   ],
   "source": [
    "ts_guess_array = np.array(xyz_to_coords_list(ts_xyz_dict_list[14]))\n",
    "ts_guess_array"
   ]
  },
  {
   "cell_type": "code",
   "execution_count": 46,
   "metadata": {},
   "outputs": [
    {
     "data": {
      "text/plain": [
       "3.1075620147352896"
      ]
     },
     "execution_count": 46,
     "metadata": {},
     "output_type": "execute_result"
    }
   ],
   "source": [
    "rmsd.rmsd(reactant_xyz, ts_guess_array)"
   ]
  },
  {
   "cell_type": "code",
   "execution_count": null,
   "metadata": {},
   "outputs": [],
   "source": []
  }
 ],
 "metadata": {
  "kernelspec": {
   "display_name": "Python 3",
   "language": "python",
   "name": "python3"
  },
  "language_info": {
   "codemirror_mode": {
    "name": "ipython",
    "version": 3
   },
   "file_extension": ".py",
   "mimetype": "text/x-python",
   "name": "python",
   "nbconvert_exporter": "python",
   "pygments_lexer": "ipython3",
   "version": "3.7.7"
  }
 },
 "nbformat": 4,
 "nbformat_minor": 4
}

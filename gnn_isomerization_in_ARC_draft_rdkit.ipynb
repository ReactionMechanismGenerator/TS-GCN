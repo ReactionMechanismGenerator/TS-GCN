{
 "cells": [
  {
   "cell_type": "code",
   "execution_count": 1,
   "metadata": {},
   "outputs": [],
   "source": [
    "import sys\n",
    "sys.path.append('../ARC/')\n",
    "sys.path.append('../RMG-Py/')"
   ]
  },
  {
   "cell_type": "code",
   "execution_count": 2,
   "metadata": {},
   "outputs": [],
   "source": [
    "import torch\n",
    "import torch_geometric as tg\n",
    "from torch_geometric.data import DataLoader"
   ]
  },
  {
   "cell_type": "code",
   "execution_count": 3,
   "metadata": {},
   "outputs": [],
   "source": [
    "import copy\n",
    "\n",
    "from rmgpy.molecule.converter import to_rdkit_mol\n",
    "from rmgpy.molecule.molecule import *\n",
    "from rmgpy.species import Species\n",
    "from rdkit import Chem\n",
    "from rdkit.Chem.rdchem import ChiralType\n",
    "from rdkit.Chem import AllChem\n",
    "from typing import List, Tuple, Union\n",
    "\n",
    "from arc.species import ARCSpecies\n",
    "from arc.reaction import ARCReaction\n",
    "from arc.species.converter import (check_isomorphism,\n",
    "                                   molecules_from_xyz,\n",
    "                                   str_to_xyz,\n",
    "                                   xyz_to_str,\n",
    "                                   xyz_to_x_y_z,\n",
    "                                   xyz_to_xyz_file_format,\n",
    "                                   xyz_to_dmat,\n",
    "                                   xyz_to_coords_list,\n",
    "                                  )\n",
    "from IPython.display import display\n",
    "import arc\n",
    "import matplotlib.pyplot as plt\n",
    "%matplotlib notebook\n",
    "%matplotlib inline"
   ]
  },
  {
   "cell_type": "markdown",
   "metadata": {},
   "source": [
    "## Assume we have atom-mapped and optimized reactants and products..."
   ]
  },
  {
   "cell_type": "code",
   "execution_count": 4,
   "metadata": {},
   "outputs": [
    {
     "name": "stdout",
     "output_type": "stream",
     "text": [
      "{'symbols': ('C', 'C', 'N', 'O', 'N', 'N', 'H', 'H', 'H'), 'isotopes': (12, 12, 14, 16, 14, 14, 1, 1, 1), 'coords': ((-1.3087, 0.0068, 0.0318), (0.1715, -0.0344, 0.021), (0.9054, -0.9001, 0.6395), (2.1683, -0.5483, 0.3437), (2.1499, 0.5449, -0.4631), (0.9613, 0.8655, -0.666), (-1.6558, 0.9505, 0.453), (-1.6934, -0.068, -0.9854), (-1.6986, -0.8169, 0.6255))}\n",
      "\n",
      "\n",
      "{'symbols': ('C', 'C', 'N', 'O', 'N', 'N', 'H', 'H', 'H'), 'isotopes': (12, 12, 14, 16, 14, 14, 1, 1, 1), 'coords': ((-1.0108, -0.0114, -0.061), (0.478, 0.0191, 0.0139), (1.2974, -0.993, 0.4693), (0.6928, -1.9845, 0.8337), (1.7456, 1.9701, -0.6976), (1.1642, 1.0763, -0.3716), (-1.402, 0.9134, -0.4821), (-1.3327, -0.8499, -0.6803), (-1.4329, -0.1554, 0.9349))}\n"
     ]
    }
   ],
   "source": [
    "# inputs\n",
    "\n",
    "xyz1 = \"\"\"C  -1.3087    0.0068    0.0318\n",
    "C  0.1715   -0.0344    0.0210\n",
    "N  0.9054   -0.9001    0.6395\n",
    "O  2.1683   -0.5483    0.3437\n",
    "N  2.1499    0.5449   -0.4631\n",
    "N  0.9613    0.8655   -0.6660\n",
    "H  -1.6558    0.9505    0.4530\n",
    "H  -1.6934   -0.0680   -0.9854\n",
    "H  -1.6986   -0.8169    0.6255\"\"\"\n",
    "\n",
    "xyz2 = \"\"\"C  -1.0108   -0.0114   -0.0610  \n",
    "C  0.4780    0.0191    0.0139    \n",
    "N  1.2974   -0.9930    0.4693    \n",
    "O  0.6928   -1.9845    0.8337    \n",
    "N  1.7456    1.9701   -0.6976    \n",
    "N  1.1642    1.0763   -0.3716    \n",
    "H  -1.4020    0.9134   -0.4821  \n",
    "H  -1.3327   -0.8499   -0.6803   \n",
    "H  -1.4329   -0.1554    0.9349\"\"\"\n",
    "\n",
    "reactant = ARCSpecies(label='reactant', smiles='C(c1nonn1)([H])([H])[H]', multiplicity=1, charge=0, xyz=xyz1)\n",
    "product = ARCSpecies(label='product', smiles='[N-]=[N+]=C(N=O)C', multiplicity=1, charge=0, xyz=xyz2)\n",
    "\n",
    "rxn = ARCReaction(label='reactant <=> product')\n",
    "rxn.r_species = [reactant]\n",
    "rxn.p_species = [product]\n",
    "\n",
    "reactant = rxn.r_species[0]\n",
    "product = rxn.p_species[0]\n",
    "\n",
    "print(reactant.get_xyz())\n",
    "print('\\n')\n",
    "print(product.get_xyz())"
   ]
  },
  {
   "cell_type": "code",
   "execution_count": null,
   "metadata": {},
   "outputs": [],
   "source": [
    "for a1, atom in enumerate(reactant.mol.atoms):\n",
    "    print(atom.atomtype)"
   ]
  },
  {
   "cell_type": "markdown",
   "metadata": {},
   "source": [
    "### generate features\n",
    "- put this in `ts_gen_v2` as a function that can be imported by ARC\n",
    "- **or put this as a method in the `gnn_isomerization` TS adapter in ARC**"
   ]
  },
  {
   "cell_type": "code",
   "execution_count": 9,
   "metadata": {},
   "outputs": [
    {
     "data": {
      "text/plain": [
       "Data(edge_attr=[72, 2], edge_index=[2, 72], x=[9, 26])"
      ]
     },
     "execution_count": 9,
     "metadata": {},
     "output_type": "execute_result"
    }
   ],
   "source": [
    "from ts_gen_v2_arc.arc_featurization import featurization\n",
    "tg_data = featurization(rxn)\n",
    "tg_data"
   ]
  },
  {
   "cell_type": "markdown",
   "metadata": {},
   "source": [
    "### generate TS guess"
   ]
  },
  {
   "cell_type": "markdown",
   "metadata": {},
   "source": [
    "Set paths to the optimal model weights. Note that these weights are for a model trained only on the training set\n",
    "- we should retrain on the entire dataset with the optimal hyperparameters \n",
    "- we should retrain using the more advanced featurizaiton"
   ]
  },
  {
   "cell_type": "code",
   "execution_count": null,
   "metadata": {},
   "outputs": [],
   "source": [
    "from model.G2C import G2C\n",
    "\n",
    "# set device\n",
    "device = torch.device('cuda' if torch.cuda.is_available() else 'cpu')\n",
    "\n",
    "# Set paths to the optimal model weights. \n",
    "# fix the typo in the name: paramAters to paramEters\n",
    "yaml_file_name = os.path.join(ts_gen_v2_path, 'best_model', 'model_paramaters.yml')\n",
    "state_dict = os.path.join(ts_gen_v2_path, 'best_model', 'epoch_95_state_dict')"
   ]
  },
  {
   "cell_type": "code",
   "execution_count": null,
   "metadata": {
    "scrolled": true
   },
   "outputs": [],
   "source": [
    "# create the network with the best architecture from hyperopt and load the corresponding best weights\n",
    "with open(yaml_file_name, 'r') as f:\n",
    "    content = yaml.load(stream=f, Loader=yaml.FullLoader)\n",
    "print(content)\n",
    "\n",
    "model = G2C(**content).to(device)\n",
    "model.load_state_dict(torch.load(state_dict, map_location=device))\n",
    "model.eval()"
   ]
  },
  {
   "cell_type": "code",
   "execution_count": null,
   "metadata": {},
   "outputs": [],
   "source": [
    "# create data loader\n",
    "data_list = list()           # list of tg.data.Data objects\n",
    "ts_xyz_dict_list = list()    # list of standard ARC xyz dictionaries for the TS\n",
    "for reaction in arc_reactions:\n",
    "    data, ts_xyz_dict = ARC_featurization(reaction)\n",
    "    data_list.append(data)\n",
    "    ts_xyz_dict_list.append(ts_xyz_dict)\n",
    "    \n",
    "loader = DataLoader(data_list, batch_size=16)"
   ]
  },
  {
   "cell_type": "code",
   "execution_count": null,
   "metadata": {
    "scrolled": false
   },
   "outputs": [],
   "source": [
    "coords_list = list()\n",
    "index = 0\n",
    "for data in loader:\n",
    "    data = data.to(device)\n",
    "    out, mask = model(data)  # out is distance matrix. mask is matrix of 1s with 0s along diagonal\n",
    "    \n",
    "    # convert distance matrix to xyz\n",
    "    ts_guess_xyz = model.low_rank_approx_power(out)\n",
    "    # print(ts_guess_xyz)\n",
    "\n",
    "    # extract xyz coordinates\n",
    "    # shape of data.coords is (batch_size, n_atoms, 3). Each batch entry holds 1 TS guess\n",
    "    for batch in data.coords:\n",
    "        coords = batch.double().cpu().detach().numpy().tolist()\n",
    "        ts_guess_coords = tuple()\n",
    "        for atom in coords:  # range(coords.shape[0]):\n",
    "            # unpack values and convert to immutable tuple\n",
    "            x, y, z = atom\n",
    "            coord = (x, y, z)\n",
    "            ts_guess_coords += (coord,)\n",
    "        ts_xyz_dict_list[index]['coords'] = ts_guess_coords\n",
    "        index += 1\n",
    "ts_xyz_dict_list"
   ]
  },
  {
   "cell_type": "code",
   "execution_count": null,
   "metadata": {},
   "outputs": [],
   "source": [
    "# show that we can convert the ARC xyz dictionary to a standard xyz file format\n",
    "print(xyz_to_xyz_file_format(ts_xyz_dict_list[-1]))"
   ]
  },
  {
   "cell_type": "code",
   "execution_count": null,
   "metadata": {},
   "outputs": [],
   "source": []
  },
  {
   "cell_type": "markdown",
   "metadata": {},
   "source": [
    "Try re-ordering atoms in case things are out of order\n",
    "- Useful for when users just provide SMILES string to ARC rather than specifying the xyz coordinates. But currently, this relies on RDKit sorting the atoms properly, so it doesn't not even use the `final_xyz` attribute on all ARCSpecies objects..."
   ]
  },
  {
   "cell_type": "code",
   "execution_count": null,
   "metadata": {},
   "outputs": [],
   "source": [
    "import sys\n",
    "# define path to rmsd: https://github.com/charnley/rmsd\n",
    "rmsd_path = os.path.join(os.path.dirname(arc_path), 'rmsd/')\n",
    "sys.path.append(rmsd_path)"
   ]
  },
  {
   "cell_type": "code",
   "execution_count": null,
   "metadata": {},
   "outputs": [],
   "source": [
    "import rmsd"
   ]
  },
  {
   "cell_type": "code",
   "execution_count": null,
   "metadata": {},
   "outputs": [],
   "source": [
    "reactant_xyz = np.array(xyz_to_coords_list(reactant.get_xyz()))\n",
    "reactant_xyz "
   ]
  },
  {
   "cell_type": "code",
   "execution_count": null,
   "metadata": {},
   "outputs": [],
   "source": [
    "ts_guess_array = np.array(xyz_to_coords_list(ts_xyz_dict_list[14]))\n",
    "ts_guess_array"
   ]
  },
  {
   "cell_type": "code",
   "execution_count": null,
   "metadata": {},
   "outputs": [],
   "source": [
    "rmsd.rmsd(reactant_xyz, ts_guess_array)"
   ]
  },
  {
   "cell_type": "code",
   "execution_count": null,
   "metadata": {},
   "outputs": [],
   "source": []
  }
 ],
 "metadata": {
  "kernelspec": {
   "display_name": "Python 3",
   "language": "python",
   "name": "python3"
  },
  "language_info": {
   "codemirror_mode": {
    "name": "ipython",
    "version": 3
   },
   "file_extension": ".py",
   "mimetype": "text/x-python",
   "name": "python",
   "nbconvert_exporter": "python",
   "pygments_lexer": "ipython3",
   "version": "3.7.7"
  }
 },
 "nbformat": 4,
 "nbformat_minor": 4
}
